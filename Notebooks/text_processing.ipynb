{
 "metadata": {
  "language_info": {
   "codemirror_mode": {
    "name": "ipython",
    "version": 3
   },
   "file_extension": ".py",
   "mimetype": "text/x-python",
   "name": "python",
   "nbconvert_exporter": "python",
   "pygments_lexer": "ipython3",
   "version": "3.7.0-final"
  },
  "orig_nbformat": 2,
  "kernelspec": {
   "name": "Python 3.7.0 64-bit ('NLP': conda)",
   "display_name": "Python 3.7.0 64-bit ('NLP': conda)",
   "metadata": {
    "interpreter": {
     "hash": "a06e355e6075423bdf8bd23b5b89df8bb519c6a64a50e8fa62fdc2a0514c199b"
    }
   }
  }
 },
 "nbformat": 4,
 "nbformat_minor": 2,
 "cells": [
  {
   "cell_type": "code",
   "execution_count": 1,
   "metadata": {},
   "outputs": [],
   "source": [
    "import numpy as np\n",
    "import multiprocessing as mp\n",
    "\n",
    "import string\n",
    "import spacy \n",
    "import nltk\n",
    "import en_core_web_sm\n",
    "from nltk.tokenize import word_tokenize\n",
    "from nltk.tokenize.toktok import ToktokTokenizer\n",
    "from sklearn.base import TransformerMixin, BaseEstimator\n",
    "from normalise import normalise\n",
    "from pathlib import Path\n",
    "import pandas as pd\n",
    "import numpy as np\n",
    "import re\n",
    "import unicodedata\n",
    "from autocorrect import Speller\n",
    "\n",
    "tokenizer = ToktokTokenizer()\n",
    "stopword_list = nltk.corpus.stopwords.words('english')\n",
    "\n",
    "nlp = en_core_web_sm.load(disable = ['ner', 'parser'])\n",
    "nlp.max_length = 10000000"
   ]
  },
  {
   "cell_type": "code",
   "execution_count": null,
   "metadata": {
    "tags": []
   },
   "outputs": [],
   "source": [
    "#import nltk\n",
    "#for dependency in (\"brown\", \"names\", \"wordnet\", \"averaged_perceptron_tagger\", \"universal_tagset\"):\n",
    "    #nltk.download(dependency)"
   ]
  },
  {
   "cell_type": "code",
   "execution_count": null,
   "metadata": {},
   "outputs": [],
   "source": [
    "class TextPreprocessor(BaseEstimator, TransformerMixin):\n",
    "    def __init__(self,\n",
    "                 variety=\"BrE\",\n",
    "                 user_abbrevs={},\n",
    "                 n_jobs=1):\n",
    "        \"\"\"\n",
    "        Text preprocessing transformer includes steps:\n",
    "            1. Text normalization\n",
    "            2. Punctuation removal\n",
    "            3. Stop words removal\n",
    "            4. Lemmatization\n",
    "        \n",
    "        variety - format of date (AmE - american type, BrE - british format) \n",
    "        user_abbrevs - dict of user abbreviations mappings (from normalise package)\n",
    "        n_jobs - parallel jobs to run\n",
    "        \"\"\"\n",
    "        self.variety = variety\n",
    "        self.user_abbrevs = user_abbrevs\n",
    "        self.n_jobs = n_jobs\n",
    "\n",
    "    def fit(self, X, y=None):\n",
    "        return self\n",
    "\n",
    "    def transform(self, X, *_):\n",
    "        X_copy = X.copy()\n",
    "\n",
    "        partitions = 1\n",
    "        cores = mp.cpu_count()\n",
    "        if self.n_jobs <= -1:\n",
    "            partitions = cores\n",
    "        elif self.n_jobs <= 0:\n",
    "            return X_copy.apply(self._preprocess_text)\n",
    "        else:\n",
    "            partitions = min(self.n_jobs, cores)\n",
    "\n",
    "        data_split = np.array_split(X_copy, partitions)\n",
    "        pool = mp.Pool(cores)\n",
    "        data = pd.concat(pool.map(self._preprocess_part, data_split))\n",
    "        pool.close()\n",
    "        pool.join()\n",
    "\n",
    "        return data\n",
    "\n",
    "    def _preprocess_part(self, part):\n",
    "        return part.apply(self._preprocess_text)\n",
    "\n",
    "    def _preprocess_text(self, text):\n",
    "        normalized_text = self._normalize(text)\n",
    "        doc = nlp(normalized_text)\n",
    "        removed_punct = self._remove_punct(doc)\n",
    "        removed_stop_words = self._remove_stop_words(removed_punct)\n",
    "        return self._lemmatize(removed_stop_words)\n",
    "\n",
    "    def _normalize(self, text):\n",
    "        # some issues in normalise package\n",
    "        try:\n",
    "            return ' '.join(normalise(text, variety=self.variety, user_abbrevs=self.user_abbrevs, verbose=True))\n",
    "        except:\n",
    "            return text\n",
    "\n",
    "    def _remove_punct(self, doc):\n",
    "        return [t for t in doc if t.text not in string.punctuation]\n",
    "\n",
    "    def _remove_stop_words(self, doc):\n",
    "        return [t for t in doc if not t.is_stop]\n",
    "\n",
    "    def _lemmatize(self, doc):\n",
    "        return ' '.join([t.lemma_ for t in doc])"
   ]
  },
  {
   "cell_type": "code",
   "execution_count": null,
   "metadata": {},
   "outputs": [],
   "source": [
    "# eg implementation\n",
    "text = TextPreprocessor(n_jobs=-1).transform(df_bbc['text'])"
   ]
  },
  {
   "cell_type": "code",
   "execution_count": 2,
   "metadata": {},
   "outputs": [],
   "source": [
    "with open(Path(r'D:\\Python ML\\Envelope-key-words\\Data\\Raw\\Envelopes\\ENV10624.pdf-textract-text.txt'), 'r') as f:\n",
    "    ENV10624 = f.read()"
   ]
  },
  {
   "cell_type": "code",
   "execution_count": null,
   "metadata": {
    "tags": [
     "outputPrepend"
    ]
   },
   "outputs": [],
   "source": [
    "print(ENV10624)"
   ]
  },
  {
   "cell_type": "code",
   "execution_count": null,
   "metadata": {},
   "outputs": [],
   "source": [
    "#ENV10624_processed = TextPreprocessor(n_jobs=-1).transform(ENV10624_tokens)"
   ]
  },
  {
   "cell_type": "code",
   "execution_count": 3,
   "metadata": {},
   "outputs": [],
   "source": [
    "def remove_accented_chars(text):\n",
    "    text = unicodedata.normalize('NFKD', text).encode('ascii', 'ignore').decode('utf-8', 'ignore')\n",
    "    return text"
   ]
  },
  {
   "cell_type": "code",
   "execution_count": 4,
   "metadata": {},
   "outputs": [],
   "source": [
    "def remove_special_characters(text, remove_digits=False):\n",
    "    pattern = r'[^a-zA-z0-9\\s]' if not remove_digits else r'[^a-zA-z\\s]'\n",
    "    text = re.sub(pattern, '', text)\n",
    "    text = ''.join([c for c in text if c not in string.punctuation])\n",
    "    return text"
   ]
  },
  {
   "cell_type": "code",
   "execution_count": 5,
   "metadata": {},
   "outputs": [],
   "source": [
    "# text normaliser very slow for large docs\n",
    "def normalise_text(text, variety='BrE', user_abbrevs={}, verbose=False):\n",
    "        #tokens = word_tokenize(text)\n",
    "        #tokens = [token.strip() for token in tokens]\n",
    "        # some issues in normalise package\n",
    "        nt = normalise(text, variety=variety, user_abbrevs=user_abbrevs, verbose=verbose)\n",
    "        \n",
    "        normalised_text = ' '.join(nt)\n",
    "        return normalised_text"
   ]
  },
  {
   "cell_type": "code",
   "execution_count": 6,
   "metadata": {},
   "outputs": [],
   "source": [
    "def lemmatize_text(text):\n",
    "    text = nlp(text)\n",
    "    text = ' '.join([word.lemma_ if word.lemma_ != '-PRON-' else word.text for word in text])\n",
    "    return text"
   ]
  },
  {
   "cell_type": "code",
   "execution_count": 7,
   "metadata": {},
   "outputs": [],
   "source": [
    "def remove_stopwords(text, is_lower_case=False):\n",
    "    tokens = tokenizer.tokenize(text)\n",
    "    tokens = [token.strip() for token in tokens]\n",
    "    if is_lower_case:\n",
    "        filtered_tokens = [token for token in tokens if token not in stopword_list]\n",
    "    else:\n",
    "        filtered_tokens = [token for token in tokens if token.lower() not in stopword_list]\n",
    "    filtered_text = ' '.join(filtered_tokens)    \n",
    "    return filtered_text"
   ]
  },
  {
   "cell_type": "code",
   "execution_count": 8,
   "metadata": {
    "tags": []
   },
   "outputs": [],
   "source": [
    "def remove_extra_whitespace_tabs(text):\n",
    "    #pattern = r'^\\s+$|\\s+$'\n",
    "    pattern = r'^\\s*|\\s\\s*'\n",
    "    return re.sub(pattern, ' ', text).strip()"
   ]
  },
  {
   "cell_type": "code",
   "execution_count": 9,
   "metadata": {},
   "outputs": [],
   "source": [
    "def spell_check(text):\n",
    "    tokens = tokenizer.tokenize(text)\n",
    "    tokens = [token.strip() for token in tokens]\n",
    "    spell = Speller()\n",
    "    corrected_text = [spell(token) for token in tokens]\n",
    "    return ' '.join(corrected_text)"
   ]
  },
  {
   "cell_type": "code",
   "execution_count": 10,
   "metadata": {},
   "outputs": [],
   "source": [
    "def remove_single_chatacters(text):\n",
    "    pattern = r'\\b[a-zA-Z]\\b'\n",
    "    return re.sub(pattern, '', text)"
   ]
  },
  {
   "cell_type": "code",
   "execution_count": 14,
   "metadata": {},
   "outputs": [],
   "source": [
    "def normalize_corpus(corpus, html_stripping=True, normalisation=True,\n",
    "                     accented_char_removal=True, text_lower_case=True, \n",
    "                     text_lemmatization=True, special_char_removal=True, \n",
    "                     stopword_removal=True, remove_digits=True):\n",
    "    \n",
    "    normalized_corpus = []\n",
    "    # normalize each document in the corpus\n",
    "    for doc in corpus:\n",
    "        # strip HTML\n",
    "        if html_stripping:\n",
    "            doc = strip_html_tags(doc)\n",
    "        # remove accented characters\n",
    "        if accented_char_removal:\n",
    "            doc = remove_accented_chars(doc)\n",
    "        # expand contractions    \n",
    "        if normalisation:\n",
    "            doc = normalise(doc)\n",
    "        # lowercase the text    \n",
    "        if text_lower_case:\n",
    "            doc = doc.lower()\n",
    "        # remove extra newlines\n",
    "        doc = re.sub(r'[\\r|\\n|\\r\\n]+', ' ',doc)\n",
    "        # lemmatize text\n",
    "        if text_lemmatization:\n",
    "            doc = lemmatize_text(doc)\n",
    "        # remove special characters and\\or digits    \n",
    "        if special_char_removal:\n",
    "            # insert spaces between special characters to isolate them    \n",
    "            special_char_pattern = re.compile(r'([{.(-)!}])')\n",
    "            doc = special_char_pattern.sub(\" \\\\1 \", doc)\n",
    "            doc = remove_special_characters(doc, remove_digits=remove_digits)  \n",
    "        # remove extra whitespace\n",
    "        doc = re.sub(' +', ' ', doc)\n",
    "        # remove stopwords\n",
    "        if stopword_removal:\n",
    "            doc = remove_stopwords(doc, is_lower_case=True)\n",
    "            \n",
    "        normalized_corpus.append(doc)\n",
    "        \n",
    "    return normalized_corpus"
   ]
  },
  {
   "cell_type": "code",
   "execution_count": null,
   "metadata": {
    "tags": []
   },
   "outputs": [],
   "source": [
    "ENV10624_processed = normalize_corpus(ENV10624, html_stripping=False, normalisation=False, remove_digits=False)"
   ]
  },
  {
   "cell_type": "code",
   "execution_count": null,
   "metadata": {},
   "outputs": [],
   "source": [
    "def preprocess_doc(doc: str, accented_char_removal=True, text_lower_case=True, check_spelling=True,\n",
    "                     text_lemmatization=True, special_char_removal=True, \n",
    "                     stopword_removal=True, remove_single_char=True, remove_digits=True):\n",
    "    \"\"\" \n",
    "    Text document preprocessor for cleaning and normalising input text for NLP processes.\n",
    "\n",
    "    Text preprocessing includes steps for:\n",
    "            1. convert to utf-8 and remove accented characters\n",
    "            2. lower case all characters\n",
    "            3. check word spelling (using autocorrect) - WARNING slow for large documents \n",
    "            4. remove extra new lines, whitespace and tabs\n",
    "            5. lemmatization (using SpaCy)\n",
    "            6. remove special characters and punctuation\n",
    "            7. remove all digits\n",
    "            8. remove single characters\n",
    "            9. remove stopwords (uses NLTK stopword list)\n",
    "\n",
    "    Parameters\n",
    "    -------------------\n",
    "        doc (str): Input text as a string\n",
    "        accented_char_removal (bool): default = True, active if true\n",
    "        text_lower_case (bool): default = True, active if true\n",
    "        check_spelling (bool): default = True, active if true\n",
    "        text_lemmatization (bool): default = True, active if true\n",
    "        special_char_removal (bool): default = True, active if true\n",
    "        stopword_removal (bool): default = True, active if true\n",
    "        remove single characters (bool): default = True, active if true\n",
    "        remove_digits (bool): default = True, active if true\n",
    "    \n",
    "    Returns\n",
    "    ------------------\n",
    "        doc (str): processed document\n",
    "\n",
    "    \"\"\"\n",
    "    if accented_char_removal:\n",
    "        doc = remove_accented_chars(doc)\n",
    "    if text_lower_case:\n",
    "        doc = doc.lower()\n",
    "    # remove extra new lines\n",
    "    doc = re.sub(r'[\\r|\\n|\\r\\n]+', ' ',doc)\n",
    "    if check_spelling:\n",
    "        doc = spell_check(doc)\n",
    "    if text_lemmatization:\n",
    "        doc = lemmatize_text(doc)\n",
    "    if special_char_removal:\n",
    "        special_char_pattern = re.compile(r'([{.(-)!}])')\n",
    "        doc = special_char_pattern.sub(\" \\\\1 \", doc)\n",
    "        doc = remove_special_characters(doc, remove_digits = remove_digits)\n",
    "    if remove_single_char:\n",
    "        doc = remove_single_chatacters(doc)\n",
    "    if stopword_removal:\n",
    "        doc = remove_stopwords\n",
    "    doc = remove_extra_whitespace_tabs(doc)\n",
    "\n",
    "    return doc\n",
    "\n",
    "\n"
   ]
  },
  {
   "cell_type": "code",
   "execution_count": 11,
   "metadata": {
    "tags": []
   },
   "outputs": [],
   "source": [
    "user_abbrevs={'SA':'South Australia', 'S.A.':'South Australia','DMITRE':'Department of Munufacturing Investment Trade Resources and Energy', 'PIRSA': 'Primary Industries and Resources South Australia', 'JV': 'Joint Venture'}\n",
    "\n",
    "doc1 = remove_accented_chars(ENV10624)\n",
    "#doc2 = normalise_text(doc1, user_abbrevs=user_abbrevs)\n",
    "doc3 = doc1.lower()\n",
    "doc4 = re.sub(r'[\\r|\\n|\\r\\n]+', ' ',doc3)\n",
    "doc5 = lemmatize_text(doc4)\n",
    "special_char_pattern = re.compile(r'([{.(-)!}])')\n",
    "doc6 = special_char_pattern.sub(\" \\\\1 \", doc5)\n",
    "doc6 = remove_special_characters(doc6, remove_digits=True)\n",
    "doc7 = re.sub(' +', ' ', doc6)\n",
    "doc8 = remove_stopwords(doc7, is_lower_case=True)"
   ]
  },
  {
   "cell_type": "code",
   "execution_count": 12,
   "metadata": {
    "tags": []
   },
   "outputs": [
    {
     "output_type": "stream",
     "name": "stdout",
     "text": [
      "Oren File Envelope\nNo. 10,624\nTHE EYRE PENINSULA JV PROJECT\nJOINT ANNUAL REPORTS FOR THE PERIOD\n19/9/200? TO 28/1?/2013\nSubmitted by\nAdelaide Exploration Ltd and Quasar Resources Pty Ltd\n2009\nC 30/11/2014\nEnquiries:\nCustomer Services\nThis report was supplied as part of the requirement to hold a mineral or\nResources and Energy Group\npetroleum exploration tenement in the State of South Australia.\n7th Floor\nDMITRE accepts no responsibility for statements made,\nor conclusions drawn, in the report or for the quality of text or drawings.\n101 Grenfell Street, Adelaide 5000\nThis report is subject to copyright. Apart from fair dealing for the purposes of\nstudy, research, criticism or review as permitted under the Copyright Act,\nno part may be reproduced without written permission of\nTelephone (08) 8463 3000\nthe Executive Director of the DMITRE Resources and Energy Group,\nFacsimile: (08) 8204 1880\nGPO Box 1264, Adelaide, SA 5001.\nGovernment of South Australia\nDepartment for Manufacturing,\nInnovation, Trade, Resources and Energy\n\nSCHEDULE A\n13540'\n32%55'\nPINKAWI\n33900\n33905\n135%40'\n10 KILOMETRES\nAREA : 111 km? (approx.)\nEL No 2669\n204\n135%35\n135035\nTYPE : MINERAL ONLY\nLOCALITY : WUDINNA HILL AREA - Approximately 130 km ESE of Streaky Bay\nDATE GRANTED I 11 November 1999 DATE EXPIRED : 10 November 2000\n32055'\n33900'\n33'05'\nAPPLICANT : ADELAIDE RESOURCES N LTD\nFILE REF : 597/96\n1:250000 MAPSHEETS : YARDEA KIMBA\nWUDINNA HILI\nSCALE 1:100 000\no\nBROADACRES\n200/\ncboc\nMETRES 2000\n2\n4\n\nSCHEDULE A\n135%40'\nP\nCHARBAH LIL\nNELIRAN\nNUKEY BL\nMQUNT FAIRVHIEW/\nMOUNTD\n32040\nWAULONNA HILL\nPINKAWIL\nUDINNAH\n33%00\nBROAOACRH BROA RES\nANCUITA\nVAr\nWARIIANBOO RE:\nNANUMA\nNAN\n135%40\n5o KILOMETRES\nGDA\nOCEWTRGOAfV\nS0Afee\nOF AUSTRAUA\nAREA : 1161 km? (approx.)\nEL No 2752\n2093 eo 2005\n135'00\nKALBRAB\nEMERALO RISE\nCONDADI\nTARS IA\n7 MOONIIGHT HLAT\nDOUNI DAMPER\nKOLBALL\n135900\nAPPLICANT I ADELAIDE RESOURCES Nt L7D\nTYPE : MINERAL ONLY\n1:250000 MAPSHEETS I YARDEA KIMBA\nLOCALITY : YANINEE AREA - Approximately 100 km ES\n\n\noren file envelope\nno. 10,624\nthe eyre peninsula jv project\njoint annual reports for the period\n19/9/200? to 28/1?/2013\nsubmitted by\nadelaide exploration ltd and quasar resources pty ltd\n2009\nc 30/11/2014\nenquiries:\ncustomer services\nthis report was supplied as part of the requirement to hold a mineral or\nresources and energy group\npetroleum exploration tenement in the state of south australia.\n7th floor\ndmitre accepts no responsibility for statements made,\nor conclusions drawn, in the report or for the quality of text or drawings.\n101 grenfell street, adelaide 5000\nthis report is subject to copyright. apart from fair dealing for the purposes of\nstudy, research, criticism or review as permitted under the copyright act,\nno part may be reproduced without written permission of\ntelephone (08) 8463 3000\nthe executive director of the dmitre resources and energy group,\nfacsimile: (08) 8204 1880\ngpo box 1264, adelaide, sa 5001.\ngovernment of south australia\ndepartment for manufacturing,\ninnovation, trade, resources and energy\n\nschedule a\n13540'\n32%55'\npinkawi\n33900\n33905\n135%40'\n10 kilometres\narea : 111 km? (approx.)\nel no 2669\n204\n135%35\n135035\ntype : mineral only\nlocality : wudinna hill area - approximately 130 km ese of streaky bay\ndate granted i 11 november 1999 date expired : 10 november 2000\n32055'\n33900'\n33'05'\napplicant : adelaide resources n ltd\nfile ref : 597/96\n1:250000 mapsheets : yardea kimba\nwudinna hili\nscale 1:100 000\no\nbroadacres\n200/\ncboc\nmetres 2000\n2\n4\n\nschedule a\n135%40'\np\ncharbah lil\nneliran\nnukey bl\nmqunt fairvhiew/\nmountd\n32040\nwaulonna hill\npinkawil\nudinnah\n33%00\nbroaoacrh broa res\nancuita\nvar\nwariianboo re:\nnanuma\nnan\n135%40\n5o kilometres\ngda\nocewtrgoafv\ns0afee\nof austraua\narea : 1161 km? (approx.)\nel no 2752\n2093 eo 2005\n135'00\nkalbrab\nemeralo rise\ncondadi\ntars ia\n7 mooniight hlat\ndouni damper\nkolball\n135900\napplicant i adelaide resources nt l7d\ntype : mineral only\n1:250000 mapsheets i yardea kimba\nlocality : yaninee area - approximately 100 km es\n\n\noren file envelope no. 10,624 the eyre peninsula jv project joint annual reports for the period 19/9/200? to 28/1?/2013 submitted by adelaide exploration ltd and quasar resources pty ltd 2009 c 30/11/2014 enquiries: customer services this report was supplied as part of the requirement to hold a mineral or resources and energy group petroleum exploration tenement in the state of south australia. 7th floor dmitre accepts no responsibility for statements made, or conclusions drawn, in the report or for the quality of text or drawings. 101 grenfell street, adelaide 5000 this report is subject to copyright. apart from fair dealing for the purposes of study, research, criticism or review as permitted under the copyright act, no part may be reproduced without written permission of telephone (08) 8463 3000 the executive director of the dmitre resources and energy group, facsimile: (08) 8204 1880 gpo box 1264, adelaide, sa 5001. government of south australia department for manufacturing, innovation, trade, resources and energy schedule a 13540' 32%55' pinkawi 33900 33905 135%40' 10 kilometres area : 111 km? (approx.) el no 2669 204 135%35 135035 type : mineral only locality : wudinna hill area - approximately 130 km ese of streaky bay date granted i 11 november 1999 date expired : 10 november 2000 32055' 33900' 33'05' applicant : adelaide resources n ltd file ref : 597/96 1:250000 mapsheets : yardea kimba wudinna hili scale 1:100 000 o broadacres 200/ cboc metres 2000 2 4 schedule a 135%40' p charbah lil neliran nukey bl mqunt fairvhiew/ mountd 32040 waulonna hill pinkawil udinnah 33%00 broaoacrh broa res ancuita var wariianboo re: nanuma nan 135%40 5o kilometres gda ocewtrgoafv s0afee of austraua area : 1161 km? (approx.) el no 2752 2093 eo 2005 135'00 kalbrab emeralo rise condadi tars ia 7 mooniight hlat douni damper kolball 135900 applicant i adelaide resources nt l7d type : mineral only 1:250000 mapsheets i yardea kimba locality : yaninee area - approximately 100 km ese \n\n\noren file envelope no . 10,624 the eyre peninsula jv project joint annual report for the period 19/9/200 ? to 28/1?/2013 submit by adelaide exploration ltd and quasar resources pty ltd 2009 c 30/11/2014 enquiry : customer service this report be supply as part of the requirement to hold a mineral or resource and energy group petroleum exploration tenement in the state of south australia . 7th floor dmitre accept no responsibility for statement make , or conclusion draw , in the report or for the quality of text or drawing . 101 grenfell street , adelaide 5000 this report be subject to copyright . apart from fair dealing for the purpose of study , research , criticism or review as permit under the copyright act , no part may be reproduce without write permission of telephone ( 08 ) 8463 3000 the executive director of the dmitre resource and energy group , facsimile : ( 08 ) 8204 1880 gpo box 1264 , adelaide , sa 5001 . government of south australia department for manufacturing , innovation , trade , resource and energy schedule a 13540 ' 32%55 ' pinkawi 33900 33905 135%40 ' 10 kilometre area : 111 km ? ( approx . ) el no 2669 204 135%35 135035 type : mineral only locality : wudinna hill area - approximately 130 km ese of streaky bay date grant i 11 november 1999 date expire : 10 november 2000 32055 ' 33900 ' 33'05 ' applicant : adelaide resources n ltd file ref : 597/96 1:250000 mapsheet : yardea kimba wudinna hili scale 1:100 000 o broadacre 200/ cboc metre 2000 2 4 schedule a 135%40 ' p charbah lil neliran nukey bl mqunt fairvhiew/ mountd 32040 waulonna hill pinkawil udinnah 33%00 broaoacrh broa res ancuita var wariianboo re : nanuma nan 135%40 5o kilometre gda ocewtrgoafv s0afee of austraua area : 1161 km ? ( approx . ) el no 2752 2093 eo 2005 135'00 kalbrab emeralo rise condadi tar ia 7 mooniight hlat douni damper kolball 135900 applicant i adelaide resource nt l7d type : mineral only 1:250000 mapsheets i yardea kimba locality : yaninee area - approximately 100 km\n\n\noren file envelope no     the eyre peninsula jv project joint annual report for the period   to  submit by adelaide exploration ltd and quasar resources pty ltd  c  enquiry  customer service this report be supply as part of the requirement to hold a mineral or resource and energy group petroleum exploration tenement in the state of south australia    th floor dmitre accept no responsibility for statement make  or conclusion draw  in the report or for the quality of text or drawing     grenfell street  adelaide  this report be subject to copyright    apart from fair dealing for the purpose of study  research  criticism or review as permit under the copyright act  no part may be reproduce without write permission of telephone          the executive director of the dmitre resource and energy group  facsimile           gpo box   adelaide  sa     government of south australia department for manufacturing  innovation  trade  resource and energy schedule a     pinkawi      kilometre area   km     approx       el no     type  mineral only locality  wudinna hill area  approximately  km ese of streaky bay date grant i  november  date expire   november        applicant  adelaide resources n ltd file ref    mapsheet  yardea kimba wudinna hili scale   o broadacre  cboc metre    schedule a   p charbah lil neliran nukey bl mqunt fairvhiew mountd  waulonna hill pinkawil udinnah  broaoacrh broa res ancuita var wariianboo re  nanuma nan  o kilometre gda ocewtrgoafv safee of austraua area   km     approx       el no   eo   kalbrab emeralo rise condadi tar ia  mooniight hlat douni damper kolball  applicant i adelaide resource nt ld type  mineral only  mapsheets i yardea kimba locality  yaninee area  approximately  km ese of streaky bay date grant  october   yo wyomon yaninee    date expire i  october  eureka bluff pondanna outstanon paneyhii       ooita kyama fark exp  red  koobod hill scrubby peak pinbong birwrood mount qranite srubby peak chilpuddie hill mount turt minii hict ichaako\n\n\noren file envelope no the eyre peninsula jv project joint annual report for the period to submit by adelaide exploration ltd and quasar resources pty ltd c enquiry customer service this report be supply as part of the requirement to hold a mineral or resource and energy group petroleum exploration tenement in the state of south australia th floor dmitre accept no responsibility for statement make or conclusion draw in the report or for the quality of text or drawing grenfell street adelaide this report be subject to copyright apart from fair dealing for the purpose of study research criticism or review as permit under the copyright act no part may be reproduce without write permission of telephone the executive director of the dmitre resource and energy group facsimile gpo box adelaide sa government of south australia department for manufacturing innovation trade resource and energy schedule a pinkawi kilometre area km approx el no type mineral only locality wudinna hill area approximately km ese of streaky bay date grant i november date expire november applicant adelaide resources n ltd file ref mapsheet yardea kimba wudinna hili scale o broadacre cboc metre schedule a p charbah lil neliran nukey bl mqunt fairvhiew mountd waulonna hill pinkawil udinnah broaoacrh broa res ancuita var wariianboo re nanuma nan o kilometre gda ocewtrgoafv safee of austraua area km approx el no eo kalbrab emeralo rise condadi tar ia mooniight hlat douni damper kolball applicant i adelaide resource nt ld type mineral only mapsheets i yardea kimba locality yaninee area approximately km ese of streaky bay date grant october yo wyomon yaninee date expire i october eureka bluff pondanna outstanon paneyhii ooita kyama fark exp red koobod hill scrubby peak pinbong birwrood mount qranite srubby peak chilpuddie hill mount turt minii hict ichaakolt rict wr pot dinna bxft cralkara pordahill ucont itchie hil scale application lodge in datum agd conical hile pyeery gawler view kaldoover hill poocher\n\n\noren file envelope eyre peninsula jv project joint annual report period submit adelaide exploration ltd quasar resources pty ltd c enquiry customer service report supply part requirement hold mineral resource energy group petroleum exploration tenement state south australia th floor dmitre accept responsibility statement make conclusion draw report quality text drawing grenfell street adelaide report subject copyright apart fair dealing purpose study research criticism review permit copyright act part may reproduce without write permission telephone executive director dmitre resource energy group facsimile gpo box adelaide sa government south australia department manufacturing innovation trade resource energy schedule pinkawi kilometre area km approx el type mineral locality wudinna hill area approximately km ese streaky bay date grant november date expire november applicant adelaide resources n ltd file ref mapsheet yardea kimba wudinna hili scale broadacre cboc metre schedule p charbah lil neliran nukey bl mqunt fairvhiew mountd waulonna hill pinkawil udinnah broaoacrh broa res ancuita var wariianboo nanuma nan kilometre gda ocewtrgoafv safee austraua area km approx el eo kalbrab emeralo rise condadi tar ia mooniight hlat douni damper kolball applicant adelaide resource nt ld type mineral mapsheets yardea kimba locality yaninee area approximately km ese streaky bay date grant october yo wyomon yaninee date expire october eureka bluff pondanna outstanon paneyhii ooita kyama fark exp red koobod hill scrubby peak pinbong birwrood mount qranite srubby peak chilpuddie hill mount turt minii hict ichaakolt rict wr pot dinna bxft cralkara pordahill ucont itchie hil scale application lodge datum agd conical hile pyeery gawler view kaldoover hill poochera kilometre file ref ha arcultaby wootpena mountoamper cocata l e innipa schedule kilometre gda olocentricdatvm cdatum auetaalm area km approx el f applicant adelaide exploration ltd mapsheets kimba locality cocata area approximately km southeast streaky bay date grant september date expire september ccotoe pordia hill application lodge datum agd type mineral balkara metre file ref scale e schedule pinkawi kilometre gda ceoctrti ce eocekicdrus datum agtralia area km approx el joe c applicant adelaide exploration ltd mapsheets yardea locality minnipa area approximately km east streaky bay date grant september date expire september metre file ref emrd scale e application lodge datum agd type mineral schedule buckleboo wat mogi bu buckleb kimboo woollini k pinka pinkawit k imba ca hambidge cp darke vanhoe kilrop tuckey pendeen later kilometre gda geocentrc try datum adgtaalia area km approx el ming inee pinbong bireawood ark arpawanta hill wanta kilometre applicant adelaide exploration ltd file ref mapsheets yardea kimba locality warramboo area approximately km southeast streaky bay date grant september date expire september pinkawillinie cp corr obinnie hill cp bro dacre waddikee rocks fra nantuma ojrview k\n"
     ]
    }
   ],
   "source": [
    "print(doc1[:2000])\n",
    "print('\\n')\n",
    "print(doc3[:2000])\n",
    "print('\\n')\n",
    "print(doc4[:2000])\n",
    "print('\\n')\n",
    "print(doc5[:2000])\n",
    "print('\\n')\n",
    "print(doc6[:2000])\n",
    "print('\\n')\n",
    "print(doc7[:2000])\n",
    "print('\\n')\n",
    "print(doc8[:3000])"
   ]
  },
  {
   "cell_type": "code",
   "execution_count": 23,
   "metadata": {
    "tags": []
   },
   "outputs": [],
   "source": [
    "doc9 = spell_check(doc3)"
   ]
  },
  {
   "cell_type": "code",
   "execution_count": 25,
   "metadata": {
    "tags": []
   },
   "outputs": [
    {
     "output_type": "stream",
     "name": "stdout",
     "text": "open file envelope no. 10,624 the eyre peninsula j project joint annual reports for the period 19/9/200 ? to 28/1?/2013 submitted by adelaide exploration ltd and quasar resources pty ltd 2009 c 30/11/2014 enquiries : customer services this report was supplied as part of the requirement to hold a mineral or resources and energy group petroleum exploration tenement in the state of south australia. 7th floor mitre accepts no responsibility for statements made , or conclusions drawn , in the report or for the quality of text or drawings. 101 refell street , adelaide 5000 this report is subject to copyright. apart from fair dealing for the purposes of study , research , criticism or review as permitted under the copyright act , no part may be reproduced without written permission of telephone ( 08 ) 8463 3000 the executive director of the mitre resources and energy group , facsimile : ( 08 ) 8204 1880 go box 1264 , adelaide , sa 5001. government of south australia department for manufacturing , innovation , trade , resources and energy schedule a 13540 ' 32 % 55 ' pinkany 33900 33905 135 % 40 ' 10 kilometres area : 111 km ? ( approx. ) el no 2669 204 135 % 35 135035 type : mineral only locality : wunna hill area - approximately 130 km ese of streaky bay date granted i 11 november 1999 date expired : 10 november 2000 32055 ' 33900 ' 33 ' 05 ' applicant : adelaide resources n ltd file ref : 597/96 1 : 250000 tipsheets : yarder simba wunna hili scale 1 : 100 000 o broadacre 200/ croc metres 2000 2 4 schedule a 135 % 40 ' p shariah ill teleran unkey bl mount airview/ mounted 32040 ballonna hill pintail dinah 33 % 00 broadacre broad res annuity var wariianboo re : manuma nan 135 % 40 5o kilometres da ocewtrgoafv s0fee of austria area : 1161 km ? ( approx. ) el no 2752 2093 eo 2005 135 ' 00 kabab emerald rise condadi tars ia 7 moonlight hat doni damper lowball 135900 applicant i adelaide resources nt l7d type : mineral only 1 : 250000 tipsheets i yarder simba locality : yankee area - approximately 100 km ese of streaky bay date granted 9 october 2000 135 % 20 yo women yankee 135 \" 20 ' 30 date expired i 8 october 2001 eureka bluff bandanna outstation paneyhii ) ( orita yama far exp/red 2002 oopod hill scrubby peak pinbone birdhood mount granite stubby peak chilpuddie hill mount 6turn minims hit ichaakolt rich wr pot donna bdft crantara pordahill cont nitchie his scale 1 : 500 000 20 application lodged in : datum and66 conical hile peery 40 yawler view kaldoover hill ( puchera kilometres 10 file ref i 34/00 2 ha 32040 33900 arcultaby wootpena mountoamper coat l o ( e intima - 10 schedule a 33 % 05 33010 10 kilometres da olocentricdatvm datum of auetaalm area [ 106 km2 ( approx. ) el no : 2844 ' 2004 200f 2066 135010 13510 ' applicant : adelaide exploration ltd 1 : 250000 tipsheets : simba locality : coat area - approximately 100 km southeast of streaky bay date granted : 19 september 2001 date expired i 18 september 2002 135015 ' 135015 clothe portia hill 2 \n"
    }
   ],
   "source": [
    "print(doc9[:3000])"
   ]
  },
  {
   "cell_type": "code",
   "execution_count": 27,
   "metadata": {},
   "outputs": [],
   "source": [
    "doc10 = nlp(doc3)"
   ]
  },
  {
   "cell_type": "code",
   "execution_count": 29,
   "metadata": {
    "tags": []
   },
   "outputs": [
    {
     "output_type": "stream",
     "name": "stdout",
     "text": "for ADP\nthe DET\nquality NOUN\nof ADP\ntext NOUN\nor CCONJ\ndrawings NOUN\n. PUNCT\n\n SPACE\n101 NUM\ngrenfell PROPN\nstreet PROPN\n, PUNCT\nadelaide VERB\n5000 NUM\n\n SPACE\nthis DET\nreport NOUN\nis AUX\nsubject ADJ\nto ADP\ncopyright NOUN\n. PUNCT\napart ADV\nfrom ADP\nfair ADJ\ndealing NOUN\nfor ADP\nthe DET\npurposes NOUN\nof ADP\n\n SPACE\nstudy NOUN\n, PUNCT\nresearch NOUN\n, PUNCT\ncriticism NOUN\nor CCONJ\nreview NOUN\nas SCONJ\npermitted VERB\nunder ADP\nthe DET\ncopyright NOUN\nact NOUN\n, PUNCT\n\n SPACE\nno DET\npart NOUN\nmay VERB\nbe AUX\nreproduced VERB\nwithout ADP\nwritten VERB\npermission NOUN\nof ADP\n\n SPACE\ntelephone NOUN\n( PUNCT\n08 NUM\n) PUNCT\n8463 NUM\n3000 NUM\n\n SPACE\nthe DET\nexecutive ADJ\ndirector NOUN\nof ADP\nthe DET\ndmitre PROPN\nresources NOUN\nand CCONJ\nenergy NOUN\ngroup NOUN\n, PUNCT\n\n SPACE\nfacsimile NOUN\n: PUNCT\n( PUNCT\n08 NUM\n) PUNCT\n8204 NUM\n1880 NUM\n\n SPACE\ngpo PROPN\nbox PROPN\n1264 NUM\n, PUNCT\nadelaide PROPN\n, PUNCT\nsa PROPN\n5001 NUM\n. PUNCT\n\n SPACE\ngovernment NOUN\nof ADP\nsouth PROPN\naustralia PROPN\n\n SPACE\ndepartment PROPN\nfor ADP\nmanufacturing NOUN\n, PUNCT\n\n SPACE\ninnovation NOUN\n, PUNCT\ntrade NOUN\n, PUNCT\nresources NOUN\nand CCONJ\nenergy NOUN\n\n\n SPACE\nschedule VERB\na DET\n\n SPACE\n13540 NUM\n' PUNCT\n\n SPACE\n32%55 NUM\n' NUM\n\n SPACE\npinkawi PROPN\n\n SPACE\n33900 NUM\n\n SPACE\n33905 NUM\n\n SPACE\n135%40 PROPN\n' PART\n\n SPACE\n10 NUM\nkilometres NOUN\n\n SPACE\narea NOUN\n: PUNCT\n111 NUM\nkm NOUN\n? PUNCT\n( PUNCT\napprox NOUN\n. PUNCT\n) PUNCT\n\n SPACE\nel PROPN\nno DET\n2669 NUM\n\n SPACE\n204 NUM\n\n SPACE\n135%35 NUM\n\n SPACE\n135035 NUM\n\n SPACE\ntype NOUN\n: PUNCT\nmineral NOUN\nonly ADV\n\n SPACE\nlocality PROPN\n: PUNCT\nwudinna PROPN\nhill PROPN\narea NOUN\n- PUNCT\napproximately ADV\n130 NUM\nkm NOUN\nese ADJ\nof ADP\nstreaky ADJ\nbay NOUN\n\n SPACE\ndate NOUN\ngranted VERB\ni PRON\n11 NUM\nnovember PROPN\n1999 NUM\ndate NOUN\nexpired VERB\n: PUNCT\n10 NUM\nnovember PROPN\n2000 NUM\n\n SPACE\n32055 NUM\n' NUM\n\n SPACE\n33900 NUM\n' NUM\n\n SPACE\n33'05 PROPN\n' PART\n\n SPACE\napplicant NOUN\n: PUNCT\nadelaide PROPN\nresources PROPN\nn PROPN\nltd PROPN\n\n SPACE\nfile NOUN\nref NOUN\n: PUNCT\n597/96 NUM\n\n SPACE\n1:250000 NUM\nmapsheets PROPN\n: PUNCT\nyardea PROPN\nkimba PROPN\n\n SPACE\nwudinna PROPN\nhili PROPN\n\n SPACE\nscale NOUN\n1:100 NUM\n000 NUM\n\n SPACE\no NOUN\n\n SPACE\nbroadacres NOUN\n\n SPACE\n200/ NOUN\n\n SPACE\ncboc NOUN\n\n SPACE\nmetres NOUN\n2000 NUM\n\n SPACE\n2 NUM\n\n SPACE\n4 NUM\n\n\n SPACE\nschedule NOUN\na DET\n\n SPACE\n135%40 PROPN\n' PART\n\n SPACE\np X\n\n SPACE\ncharbah PROPN\nlil PROPN\n\n SPACE\nneliran PROPN\n\n SPACE\nnukey PROPN\nbl PROPN\n\n SPACE\nmqunt PROPN\nfairvhiew/ PROPN\n\n SPACE\nmountd NOUN\n\n SPACE\n32040 NUM\n\n SPACE\nwaulonna PROPN\nhill PROPN\n\n SPACE\npinkawil PROPN\n\n SPACE\nudinnah PROPN\n\n SPACE\n33%00 NUM\n\n SPACE\nbroaoacrh PROPN\nbroa PROPN\nres PROPN\n\n SPACE\nancuita PROPN\n\n SPACE\nvar PROPN\n\n SPACE\nwariianboo PROPN\nre ADP\n: PUNCT\n\n SPACE\nnanuma PROPN\n\n SPACE\nnan PROPN\n\n SPACE\n135%40 NUM\n\n SPACE\n5o NUM\nkilometres NOUN\n\n SPACE\ngda PROPN\n\n SPACE\nocewtrgoafv PROPN\n\n SPACE\ns0afee PROPN\n\n SPACE\nof ADP\naustraua PROPN\n\n SPACE\narea NOUN\n: PUNCT\n1161 NUM\nkm NOUN\n? PUNCT\n( PUNCT\napprox NOUN\n. PUNCT\n) PUNCT\n\n SPACE\nel PROPN\nno DET\n2752 NUM\n\n SPACE\n2093 NUM\neo PROPN\n2005 NUM\n\n SPACE\n135'00 PROPN\n\n SPACE\nkalbrab PROPN\n\n SPACE\nemeralo PROPN\nrise VERB\n\n SPACE\ncondadi PROPN\n\n SPACE\ntars NOUN\nia X\n\n SPACE\n7 NUM\nmooniight PROPN\nhlat PROPN\n\n SPACE\ndouni PROPN\ndamper PROPN\n\n SPACE\nkolball PROPN\n\n SPACE\n135900 NUM\n\n SPACE\napplicant NOUN\ni PRON\nadelaide VERB\nresources NOUN\nnt PART\nl7d NOUN\n\n SPACE\ntype NOUN\n: PUNCT\nmineral NOUN\nonly ADV\n\n SPACE\n1:250000 NUM\nmapsheets PROPN\ni PRON\nyardea PROPN\nkimba PROPN\n\n SPACE\nlocality PROPN\n: PUNCT\nyaninee PROPN\narea NOUN\n- PUNCT\napproximately ADV\n100 NUM\nkm NOUN\nese ADJ\nof ADP\nstreaky ADJ\nbay NOUN\n\n SPACE\ndate NOUN\ngranted VERB\n9 NUM\noctober PROPN\n2000 NUM\n\n SPACE\n135%20 NUM\n\n SPACE\nyo PROPN\n\n SPACE\nwyomon PROPN\n\n SPACE\nyaninee PROPN\n\n SPACE\n135\"20 NUM\n' PART\n\n SPACE\n30 NUM\n\n SPACE\ndate NOUN\nexpired VERB\ni PRON\n8 NUM\noctober PROPN\n2001 NUM\n\n SPACE\neureka PROPN\nbluff PROPN\n\n SPACE\npondanna PROPN\noutstanon PROPN\n\n SPACE\n"
    }
   ],
   "source": [
    "for token in doc10[100:500]:\n",
    "    print(token.text, token.pos_)"
   ]
  },
  {
   "cell_type": "code",
   "execution_count": 31,
   "metadata": {},
   "outputs": [],
   "source": [
    "def get_pos(text):\n",
    "    text = nltk.word_tokenize(text)\n",
    "    pos_string = nltk.pos_tag(text)\n",
    "    return pos_string"
   ]
  },
  {
   "cell_type": "code",
   "execution_count": 32,
   "metadata": {
    "tags": []
   },
   "outputs": [
    {
     "output_type": "stream",
     "name": "stdout",
     "text": "[('approx', 'NN'), ('el', 'NN'), ('type', 'JJ'), ('mineral', 'JJ'), ('locality', 'NN'), ('wudinna', 'NN'), ('hill', 'JJ'), ('area', 'NN'), ('approximately', 'RB'), ('km', 'JJ'), ('ese', 'JJ'), ('streaky', 'NN'), ('bay', 'NN'), ('date', 'NN'), ('grant', 'NN'), ('november', 'NN'), ('date', 'NN'), ('expire', 'NN'), ('november', 'NN'), ('applicant', 'JJ'), ('adelaide', 'JJ'), ('resources', 'NNS'), ('n', 'JJ'), ('ltd', 'VBP'), ('file', 'JJ'), ('ref', 'NN'), ('mapsheet', 'NN'), ('yardea', 'NN'), ('kimba', 'NN'), ('wudinna', 'NN'), ('hili', 'VBZ'), ('scale', 'JJ'), ('broadacre', 'NN'), ('cboc', 'NN'), ('metre', 'NN'), ('schedule', 'NN'), ('p', 'NN'), ('charbah', 'NN'), ('lil', 'NN'), ('neliran', 'NN'), ('nukey', 'JJ'), ('bl', 'NN'), ('mqunt', 'NN'), ('fairvhiew', 'NN'), ('mountd', 'NN'), ('waulonna', 'NN'), ('hill', 'NN'), ('pinkawil', 'VBZ'), ('udinnah', 'JJ'), ('broaoacrh', 'NN'), ('broa', 'NN'), ('res', 'VBZ'), ('ancuita', 'JJ'), ('var', 'NN'), ('wariianboo', 'NN'), ('nanuma', 'JJ'), ('nan', 'NN'), ('kilometre', 'NN'), ('gda', 'NN'), ('ocewtrgoafv', 'JJ'), ('safee', 'NN'), ('austraua', 'JJ'), ('area', 'NN'), ('km', 'NN'), ('approx', 'NN'), ('el', 'NN'), ('eo', 'NN'), ('kalbrab', 'NN'), ('emeralo', 'VBP'), ('rise', 'NN'), ('condadi', 'NN'), ('tar', 'NN'), ('ia', 'NN'), ('mooniight', 'VBD'), ('hlat', 'JJ'), ('douni', 'JJ'), ('damper', 'NN'), ('kolball', 'NN'), ('applicant', 'JJ'), ('adelaide', 'IN'), ('resource', 'NN'), ('nt', 'NN'), ('ld', 'NN'), ('type', 'JJ'), ('mineral', 'JJ'), ('mapsheets', 'NNS'), ('yardea', 'VBP'), ('kimba', 'JJ'), ('locality', 'NN'), ('yaninee', 'NNP'), ('area', 'NN'), ('approximately', 'RB'), ('km', 'JJ'), ('ese', 'JJ'), ('streaky', 'NN'), ('bay', 'NN'), ('date', 'NN'), ('grant', 'NN'), ('october', 'NNP'), ('yo', 'NNP'), ('wyomon', 'VBD'), ('yaninee', 'JJ'), ('date', 'NN'), ('expire', 'NN'), ('october', 'NNP'), ('eureka', 'NN'), ('bluff', 'NN'), ('pondanna', 'NN'), ('outstanon', 'VBZ'), ('paneyhii', 'JJ'), ('ooita', 'JJ'), ('kyama', 'NN'), ('fark', 'NN'), ('exp', 'NN'), ('red', 'JJ'), ('koobod', 'NN'), ('hill', 'NN'), ('scrubby', 'VBZ'), ('peak', 'NN'), ('pinbong', 'JJ'), ('birwrood', 'NN'), ('mount', 'NN'), ('qranite', 'JJ'), ('srubby', 'NN'), ('peak', 'NN'), ('chilpuddie', 'NN'), ('hill', 'NN'), ('mount', 'NNP'), ('turt', 'NN'), ('minii', 'NN'), ('hict', 'NN'), ('ichaakolt', 'NN'), ('rict', 'NN'), ('wr', 'NN'), ('pot', 'NN'), ('dinna', 'NN'), ('bxft', 'NN'), ('cralkara', 'NN'), ('pordahill', 'NN'), ('ucont', 'JJ'), ('itchie', 'NN'), ('hil', 'NN'), ('scale', 'JJ'), ('application', 'NN'), ('lodge', 'NN'), ('datum', 'NN'), ('agd', 'JJ'), ('conical', 'JJ'), ('hile', 'NN'), ('pyeery', 'NN'), ('gawler', 'NN'), ('view', 'NN'), ('kaldoover', 'NN'), ('hill', 'NN'), ('poochera', 'NN'), ('kilometre', 'NN'), ('file', 'NN'), ('ref', 'NN'), ('ha', 'NN'), ('arcultaby', 'NN'), ('wootpena', 'VBP'), ('mountoamper', 'JJR'), ('cocata', 'NN'), ('l', 'NN'), ('e', 'NN'), ('innipa', 'NN'), ('schedule', 'NN'), ('kilometre', 'VBD'), ('gda', 'JJ'), ('olocentricdatvm', 'JJ'), ('cdatum', 'NN'), ('auetaalm', 'JJ'), ('area', 'NN'), ('km', 'NN'), ('approx', 'NN'), ('el', 'NN'), ('f', 'NN'), ('applicant', 'JJ'), ('adelaide', 'JJ'), ('exploration', 'NN'), ('ltd', 'NN'), ('mapsheets', 'NNS'), ('kimba', 'VBP'), ('locality', 'NN'), ('cocata', 'NNS'), ('area', 'NN'), ('approximately', 'RB'), ('km', 'VBD'), ('southeast', 'JJ'), ('streaky', 'JJ'), ('bay', 'NN'), ('date', 'NN'), ('grant', 'JJ'), ('september', 'NN'), ('date', 'NN'), ('expire', 'NN'), ('september', 'NN'), ('ccotoe', 'NN'), ('pordia', 'NN'), ('hill', 'NN'), ('application', 'NN'), ('lodge', 'NN'), ('datum', 'NN'), ('agd', 'NN'), ('type', 'JJ'), ('mineral', 'NN'), ('balkara', 'NN'), ('metre', 'NN'), ('file', 'NN'), ('ref', 'NN'), ('scale', 'NN'), ('e', 'NN'), ('schedule', 'NN'), ('pinkawi', 'NN'), ('kilometre', 'NN'), ('gda', 'NN'), ('ceoctrti', 'NN'), ('ce', 'NN'), ('eocekicdrus', 'NN'), ('datum', 'NN'), ('agtralia', 'JJ'), ('area', 'NN'), ('km', 'NN'), ('approx', 'NN'), ('el', 'NN'), ('joe', 'NN'), ('c', 'NN'), ('applicant', 'JJ'), ('adelaide', 'JJ'), ('exploration', 'NN'), ('ltd', 'NN'), ('mapsheets', 'NNS'), ('yardea', 'VBP'), ('locality', 'NN'), ('minnipa', 'JJ'), ('area', 'NN'), ('approximately', 'RB'), ('km', 'VBD'), ('east', 'JJ'), ('streaky', 'JJ'), ('bay', 'NN'), ('date', 'NN'), ('grant', 'JJ'), ('september', 'NN'), ('date', 'NN'), ('expire', 'NN'), ('september', 'NN'), ('metre', 'NN'), ('file', 'NN'), ('ref', 'NN'), ('emrd', 'VBP'), ('scale', 'NN'), ('e', 'NN'), ('application', 'NN'), ('lodge', 'NN'), ('datum', 'NN'), ('agd', 'NN'), ('type', 'JJ'), ('mineral', 'NN'), ('schedule', 'NN'), ('buckleboo', 'NN'), ('wat', 'NN'), ('mogi', 'NN'), ('bu', 'NN'), ('buckleb', 'NN'), ('kimboo', 'NN'), ('woollini', 'NN'), ('k', 'NN'), ('pinka', 'NN'), ('pinkawit', 'NN'), ('k', 'NN'), ('imba', 'NN'), ('ca', 'MD'), ('hambidge', 'VB'), ('cp', 'NN'), ('darke', 'NN'), ('vanhoe', 'NN'), ('kilrop', 'NN'), ('tuckey', 'NN'), ('pendeen', 'NN'), ('later', 'RB'), ('kilometre', 'VBD'), ('gda', 'NNS'), ('geocentrc', 'JJ'), ('try', 'NN'), ('datum', 'NN'), ('adgtaalia', 'JJ'), ('area', 'NN'), ('km', 'NN'), ('approx', 'NN'), ('el', 'NN'), ('ming', 'VBG'), ('inee', 'NN'), ('pinbong', 'RB'), ('bireawood', 'VBD'), ('ark', 'JJ'), ('arpawanta', 'NN'), ('hill', 'NN'), ('wanta', 'WRB'), ('kilometre', 'NN'), ('applicant', 'JJ'), ('adelaide', 'JJ'), ('exploration', 'NN'), ('ltd', 'NN'), ('file', 'NN'), ('ref', 'NN'), ('mapsheets', 'NNS'), ('yardea', 'VBP'), ('kimba', 'JJ'), ('locality', 'NN'), ('warramboo', 'VBP'), ('area', 'NN'), ('approximately', 'RB'), ('km', 'VBD'), ('southeast', 'JJ'), ('streaky', 'JJ'), ('bay', 'NN'), ('date', 'NN'), ('grant', 'JJ'), ('september', 'NN'), ('date', 'NN'), ('expire', 'NN'), ('september', 'NN'), ('pinkawillinie', 'NN'), ('cp', 'NN'), ('corr', 'NN'), ('obinnie', 'NN'), ('hill', 'NN'), ('cp', 'VBZ'), ('bro', 'JJ'), ('dacre', 'NN'), ('waddikee', 'NN'), ('rocks', 'NNS'), ('fra', 'VBP'), ('nantuma', 'JJ'), ('ojrview', 'NN'), ('kor', 'VBD'), ('coqlar', 'JJ'), ('udie', 'JJ'), ('iepark', 'NN'), ('application', 'NN'), ('lodge', 'NN'), ('datum', 'NN'), ('agd', 'NN'), ('karaida', 'NN'), ('roxenb', 'NN'), ('wudinnahill', 'NN'), ('cor', 'VBZ'), ('obinnie', 'RP'), ('hill', 'JJ'), ('ancutta', 'NN'), ('warkianboo', 'NN'), ('reservoir', 'NN'), ('arunta', 'NN'), ('waroona', 'NN'), ('wod', 'NN'), ('bcombe', 'NN'), ('evelydonn', 'NN'), ('els', 'NNS'), ('lbck', 'VBP'), ('ebe', 'JJ'), ('eninsu', 'NN'), ('type', 'JJ'), ('mineral', 'JJ'), ('pygery', 'NN'), ('u', 'JJ'), ('wudinna', 'NN'), ('te', 'NN'), ('k', 'NN'), ('amba', 'IN'), ('park', 'NN'), ('koongawa', 'NN'), ('polda', 'NN'), ('moron', 'NNP'), ('scale', 'NN'), ('schedule', 'NN'), ('kolendo', 'NN'), ('pange', 'NN'), ('ng', 'JJ'), ('buckeboo', 'NN'), ('pinkawillinie', 'NN'), ('g', 'NN'), ('wvaddikee', 'NN'), ('ifarke', 'NN'), ('peak', 'NN'), ('kilometre', 'NN'), ('gda', 'NN'), ('geocentricdatum', 'NN'), ('opaugtralia', 'JJ'), ('area', 'NN'), ('km', 'NN'), ('approx', 'NN'), ('el', 'NN'), ('ef', 'NN'), ('applicant', 'JJ'), ('adelaide', 'JJ'), ('exploration', 'NN'), ('ltd', 'NN'), ('type', 'JJ'), ('mineral', 'JJ')]\n"
    }
   ],
   "source": [
    "doc11 = get_pos(doc8)\n",
    "print(doc11[100:500])"
   ]
  },
  {
   "cell_type": "code",
   "execution_count": 33,
   "metadata": {
    "tags": []
   },
   "outputs": [
    {
     "output_type": "stream",
     "name": "stdout",
     "text": "[('oren', 'NNS'), ('file', 'VBP'), ('envelope', 'NN'), ('eyre', 'NN'), ('peninsula', 'NN'), ('jv', 'NN'), ('project', 'NN'), ('joint', 'JJ'), ('annual', 'JJ'), ('report', 'NN'), ('period', 'NN'), ('submit', 'VBD'), ('adelaide', 'JJ'), ('exploration', 'NN'), ('ltd', 'NN'), ('quasar', 'JJ'), ('resources', 'NNS'), ('pty', 'VBP'), ('ltd', 'JJ'), ('c', 'NN'), ('enquiry', 'NN'), ('customer', 'NN'), ('service', 'NN'), ('report', 'NN'), ('supply', 'VB'), ('part', 'NN'), ('requirement', 'NN'), ('hold', 'VBP'), ('mineral', 'JJ'), ('resource', 'NN'), ('energy', 'NN'), ('group', 'NN'), ('petroleum', 'NN'), ('exploration', 'NN'), ('tenement', 'NN'), ('state', 'NN'), ('south', 'JJ'), ('australia', 'JJ'), ('th', 'NN'), ('floor', 'NN'), ('dmitre', 'NN'), ('accept', 'IN'), ('responsibility', 'NN'), ('statement', 'NN'), ('make', 'VBP'), ('conclusion', 'NN'), ('draw', 'VB'), ('report', 'NN'), ('quality', 'NN'), ('text', 'IN'), ('drawing', 'VBG'), ('grenfell', 'JJ'), ('street', 'NN'), ('adelaide', 'JJ'), ('report', 'NN'), ('subject', 'JJ'), ('copyright', 'JJ'), ('apart', 'RB'), ('fair', 'JJ'), ('dealing', 'VBG'), ('purpose', 'NN'), ('study', 'NN'), ('research', 'NN'), ('criticism', 'NN'), ('review', 'NN'), ('permit', 'NN'), ('copyright', 'NN'), ('act', 'IN'), ('part', 'NN'), ('may', 'MD'), ('reproduce', 'VB'), ('without', 'IN'), ('write', 'JJ'), ('permission', 'NN'), ('telephone', 'NN'), ('executive', 'NN'), ('director', 'NN'), ('dmitre', 'VBD'), ('resource', 'NNP'), ('energy', 'NN'), ('group', 'NN'), ('facsimile', 'JJ'), ('gpo', 'NN'), ('box', 'NN'), ('adelaide', 'IN'), ('sa', 'JJ'), ('government', 'NN'), ('south', 'VBD'), ('australia', 'JJ'), ('department', 'NN'), ('manufacturing', 'VBG'), ('innovation', 'NN'), ('trade', 'NN'), ('resource', 'NN'), ('energy', 'NN'), ('schedule', 'NN'), ('pinkawi', 'NN'), ('kilometre', 'NNP'), ('area', 'NN'), ('km', 'NN')]\n"
    }
   ],
   "source": [
    "print(doc11[0:100])"
   ]
  },
  {
   "cell_type": "code",
   "execution_count": 43,
   "metadata": {},
   "outputs": [
    {
     "output_type": "execute_result",
     "data": {
      "text/plain": "260908"
     },
     "metadata": {},
     "execution_count": 43
    }
   ],
   "source": [
    "len(doc11)"
   ]
  },
  {
   "cell_type": "code",
   "execution_count": 13,
   "metadata": {},
   "outputs": [],
   "source": [
    "def get_pos_spell_check(text):\n",
    "    text = nltk.word_tokenize(text)\n",
    "    pos_string = nltk.pos_tag(text)\n",
    "    checked = ''\n",
    "    for x in range(len(pos_string)):\n",
    "        if pos_string[x][1] != 'NN':\n",
    "            check = spell_check(pos_string[x][0])\n",
    "            checked += check + ' '\n",
    "        else:\n",
    "            check = pos_string[x][0]\n",
    "            checked += check + ' '\n",
    "            \n",
    "    return checked\n"
   ]
  },
  {
   "cell_type": "code",
   "execution_count": 3,
   "metadata": {},
   "outputs": [],
   "source": [
    "import time"
   ]
  },
  {
   "cell_type": "code",
   "execution_count": 18,
   "metadata": {},
   "outputs": [],
   "source": [
    "start = time.time()\n",
    "doc12 = get_pos_spell_check(doc8[5000:8000])\n"
   ]
  },
  {
   "cell_type": "code",
   "execution_count": 19,
   "metadata": {
    "tags": []
   },
   "outputs": [
    {
     "output_type": "stream",
     "name": "stdout",
     "text": [
      "81.96751523017883\n"
     ]
    }
   ],
   "source": [
    "end = time.time()\n",
    "print(end-start)"
   ]
  },
  {
   "cell_type": "code",
   "execution_count": 20,
   "metadata": {
    "tags": []
   },
   "outputs": [
    {
     "output_type": "stream",
     "name": "stdout",
     "text": [
      "ay wirrulla ill cungena schedule kilometre da qeooen ooentrodarua odarua australia area km approx el gawler range np applicant adelaide exploration ltd eye enel etd type mineral mapsheet yardea locality pinkawillinie area approximately km northwest kimba date grant aug date expire aug tr pinkawillinie cp licence grant datum agd n file ref ahill na na hill hill kilometre expire corrobinn e hill kdonglawa scale schedule belt hill moon kilometre gda datus australia area km approx bef mounebiday applicant adelaide exploration ltd tipsheets gardener yarder locality lake acreman area approximately km northeast streaky bay date grant september date expire september el f waurea hill ex ld application lodge datum agd mountr sam palthrubie hill mount st mungo scale type mineral lakeeverard yarna hill old yarna kilometre file ref ltaba bamid schedule kilometre da qecce qeccenthcdatum tut australia area km approx el applicant adelaide exploration ltd type mineral tipsheets yarder locality thurlga ramp area approximately km northwest kimba date grant march mount nott date expire march fuff ountfairview ahill kilometre file ref spring hill unkey bluff mount double gawler range np c application lodge datum agd panby pinkawillinie cp scale ccb schedule pinkawillinie kilometre gda cccenthocatum datul guttula area km approx el scale licence grant datum agd applicant adelaide exploration ltd type mineral locality wudinna hill area approximately km ese streaky bay date expire jan file ref tipsheets yarder date grant jan wudinna hill metre adelaide exploration limit acn exploration licence cocata eyre peninsula south australia annual report report period september september compile pam robinson kelpie exploration pty ltd report ar date march distribution hard copy digital copy cd adelaide resources limited vermont australia limited pisa sheet simba si sheet damper exploration licence cocata south australia annual report september september table content page summary introduction location access climate landform tenure regional geology current exploration calcrete geochemistry conclusion expenditure reference keyword list appendix appendix assay submission statistics appendix surface sample appendix laboratory assay reports list figure figure el tenement location scale show figure el calcrete sample location scale file verification list cd digital file exploration licence cocata south australia annual report september september summary twenty nine calcrete sample collect el second year tenure assay gold arsenic silver calcium copper iron magnesium manganese nickel lead zinc anomalous gold copper value return exploration carry adelaide exploration limited vermont australia limited group part eyre peninsula joint venture introduction adelaide exploration explore el exploration licence northern eyre peninsula deposit gold andor copper base metal together licence form eyre peninsula project figure may adelaide exploration sign joint venture agreement vermont australi \n"
     ]
    }
   ],
   "source": [
    "print(doc12)\n",
    "\n"
   ]
  },
  {
   "cell_type": "code",
   "execution_count": 21,
   "metadata": {},
   "outputs": [],
   "source": [
    "import pkg_resources\n",
    "from symspellpy import SymSpell, Verbosity"
   ]
  },
  {
   "cell_type": "code",
   "execution_count": 22,
   "metadata": {},
   "outputs": [
    {
     "output_type": "execute_result",
     "data": {
      "text/plain": [
       "True"
      ]
     },
     "metadata": {},
     "execution_count": 22
    }
   ],
   "source": [
    "sym_spell = SymSpell(max_dictionary_edit_distance=2, prefix_length=7)\n",
    "dictionary_path = pkg_resources.resource_filename(\n",
    "    \"symspellpy\", \"frequency_dictionary_en_82_765.txt\")\n",
    "bigram_path = pkg_resources.resource_filename(\n",
    "    \"symspellpy\", \"frequency_bigramdictionary_en_243_342.txt\")\n",
    "# term_index is the column of the term and count_index is the\n",
    "# column of the term frequency\n",
    "sym_spell.load_dictionary(dictionary_path, term_index=0, count_index=1)\n",
    "sym_spell.load_bigram_dictionary(bigram_path, term_index=0, count_index=2)"
   ]
  },
  {
   "cell_type": "code",
   "execution_count": 23,
   "metadata": {},
   "outputs": [],
   "source": [
    "start = time.time()\n",
    "suggestions = sym_spell.lookup_compound(doc8[5000:8000], max_edit_distance=2, ignore_non_words=True, transfer_casing=True, ignore_term_with_digits=True)"
   ]
  },
  {
   "cell_type": "code",
   "execution_count": 24,
   "metadata": {
    "tags": []
   },
   "outputs": [
    {
     "output_type": "stream",
     "name": "stdout",
     "text": [
      "4.153019905090332\n"
     ]
    }
   ],
   "source": [
    "end = time.time()\n",
    "print(end-start)"
   ]
  },
  {
   "cell_type": "code",
   "execution_count": 25,
   "metadata": {
    "tags": []
   },
   "outputs": [
    {
     "output_type": "stream",
     "name": "stdout",
     "text": [
      "a wirra la ill pungent schedule kilometre ada reopen open rotorua darla australia area pm approx al gawker range no applicant adelaide exploration ltd eye eel end type mineral map sheet yard a locality pink illinois area approximately pm northwest simba date grant aug date expire aug to pink illinois up licence grant datum and a file ref a hill a a hill hill kilometre expire corrosion a hill dongle a scale schedule belt hill moon kilometre ada dates australia area pm approx be money day applicant adelaide exploration ltd map sheets gardner yard a locality lake caravan area approximately pm northeast streaky bay date grant september date expire september elf area hill eld application lodge datum and mount sam path be hill mount st mango scale type mineral lake gerard yarn hill old yarn kilometre file ref lab amid schedule kilometre ada lecce recent datum tut australia area pm approx al applicant adelaide exploration ltd type mineral map sheets yard a locality thurgau ramp area approximately pm northwest simba date grant march mount not date expire march duff unfair view a hill kilometre file ref spring hill nuke bluff mount double gawker range pc application lodge datum and panty pink illinois up scale cab schedule pink illinois kilometre ada accent datum datum are tula area pm approx al scale licence grant datum and applicant adelaide exploration ltd type mineral locality audio a hill area approximately pm use streaky bay date expire jan file ref map sheets yard a date grant jan audio a hill metre adelaide exploration limit an exploration licence costa eyre peninsula south australia annual report report period september september compile pam robinson kelpie exploration pay ltd report a date march distribution hard copy digital copy cd adelaide resources limited new ont australia limited pisa sheet simba is sheet damper exploration licence costa south australia annual report september september table content page summary introduction location access climate landform tenure regional geology current exploration cal crete geochemistry conclusion expenditure reference keyword list appendix appendix assay submission statistics appendix surface sample appendix laboratory assay reports list figure figure al tenement location scale show figure al cal crete sample location scale file verification list cd digital file exploration licence costa south australia annual report september september summary twenty nine cal crete sample collect al second year tenure assay gold arsenic silver calcium copper iron magnesium manganese nickel lead zinc anomalous gold copper value return exploration carry adelaide exploration limited new ont australia limited group part eyre peninsula joint venture introduction adelaide exploration explore al exploration licence northern eyre peninsula deposit gold and or copper base metal together licence form eyre peninsula project figure may adelaide exploration sign joint venture agreement new ont australia, 165, 0\n"
     ]
    }
   ],
   "source": [
    "for sug in suggestions:\n",
    "    print(sug)"
   ]
  },
  {
   "cell_type": "code",
   "execution_count": 4,
   "metadata": {},
   "outputs": [],
   "source": [
    "from helper.text_preprocessor import preprocess_doc"
   ]
  },
  {
   "cell_type": "code",
   "execution_count": 5,
   "metadata": {},
   "outputs": [],
   "source": [
    "start = time.time()\n",
    "processed_doc = preprocess_doc(ENV10624, check_spelling=False)"
   ]
  },
  {
   "cell_type": "code",
   "execution_count": 6,
   "metadata": {},
   "outputs": [
    {
     "output_type": "stream",
     "name": "stdout",
     "text": [
      "28.5401930809021\n"
     ]
    }
   ],
   "source": [
    "end = time.time()\n",
    "print(end-start)"
   ]
  },
  {
   "cell_type": "code",
   "execution_count": 7,
   "metadata": {
    "tags": [
     "outputPrepend"
    ]
   },
   "outputs": [
    {
     "output_type": "stream",
     "name": "stdout",
     "text": [
      "igure monax waddikee graphite prospect el courtesy monax mining limited balumbah pirie el el lincoln wilclo cut snake argent lacroma wilclo south ridgestone jamieson tank el lincoln ar buckleboo hs el adres moongi buckleboo hall kimboo woollinie pinkawillinie el investigator el grant figure exploration tenements buckleboo northern eyre peninsula el trafford wattle grove glencoe el monax el application el mincor kilometre buckleboo ela el adre ogs el trafford el investigator ar lincoln kalindi el trafford view point lincoln gap simmens hill el ml mlo ml ml ml memu eml eml eml eml whyalla eight mile creek beach el grant figure exploration licence strategic energy resource north whyalla eml tassie hill sunset hill el strategic ml ml ml ml el application rocky point chinaman creek yatala harbour station hill backy point fitzgerald bay point low kilometre eml roopena eml eml whyalla tregalana park eml mount young eml el mambray creek ar eml eml mount wild dog hill el eml mpl el strategic eml eml eml ml ml mpl false bay miranda ml ml black point ml ml adelaide resource limit king william road unley sa po box unley bc sa adresadelaideresources com au email www adelaideresources com au annual letter report eyre peninsula amalgamate exploration agreement exploration licence january december twelve exploration licence list subject amalgamate exploration agreement identify tenement hold peninsula resource limit wholly owned subsidiary company adelaide resource limit exception three tenement el el el licence subject joint venture quasar resources pty ltd quasar explore uranium deposit el acraman hold solely peninsula resource el kimba el verran part joint venture peninsula resource hold olliver geological service hold tenement corrobinnie uranium joint venture cujv quasar resources pty ltd adelaide resource search uranium northern eyre peninsula south australia quasar resources act manager first quarter year cujv receive assays sample submit follow drilling program test target narlaby thuriga palaeochannel significant result narlaby channel hole include metre ppm uo metre hole pda metre ppm uo pda metre ppm uo cba full detail document quasar annual technical report please refer attachment annual rehabilitation report corrobinnie joint venture also reporting period adelaide resource carry exploration drilling work eyre peninsula company concentrate office base work associate cujv write lodge several def take native title investigation approval future drilling program within pinkawillinie conservation park empire historical geochemistry also review jeffrey olliver consultant geologist olliver geological service complete graphite review eyre peninsula include two tenement share interest el el report conclude investigation need tenement full report attach appendix december quasar advise intention withdraw corrobinnie uranium joint venture withdrawal provision quasar interest joint venture transfer adelaide quasar spend excess million exploration term joint venture discover uranium two palaeochannel anomalous uranium host basement rock anomalous gold also host basement provide shareholder discovery opportunity tel fax abn march el report officer mineral resources division dmitre th floor grenfell st adelaide sa dear sir madam adelaide resource limit dmitre operator cujv append attachment resource consideration effective february rock follow completion quasar withdrawal adelaide resource eyre peninsula project comprise tenement secure total area km km adelaide resource km adelaide resource previous gold focus exploration adelaide resource past joint venturer eyre peninsula discover significant gold mineralisation barn baggy green white tank deposit identify numerous prospect target remain investigate company believe significant potentia remain discover attractive grade gold mineralisation deposit baggy green barn environmental approval obtain complete drilling baggy green prospect effort satisfy native title legislative requirement underway additionally three eyre peninsula tenement revert adelaide resource ownership follow quasar withdrawal adjoin exploration licence investigator resource limited paris silver discovery locate adelaide resources review silver potential tenement holding light positive result neighbour achieve period january december total expenditure adelaide resource quasar outline table table adelaide resource quasar resource expenditure january december expenditure item adelaide resource quasar resource total total expenditure total expenditure expenditure personnel title drill analytical logistic project organisation admin total expenditure adelaide resource request letter together quasar attach eyre peninsula annual technical status report accept satisfy annual statutory reporting commitment eyre peninsula aea tenements year end december please hesitate contact require information sincerely mark manly exploration manager encl provide shareholder discovery opportunity quasar annual rehabilitation status report author hewett date february distribution submit accept rune quasar resources pty ltd suite level grenfell street adelaide sa australia january december exploration licence corrobinnie joint venture south australia adelaide resources digital hardcopy quasar resources pty ltd digital hardcopy hpuett abn phone fax cr annual rehabilitation status report january december exploration licence corrobinnie joint venture south australia author hewett date february adelaide resource digital hardcopy quasar resources pty ltd digital hardcopy submit accept cr distribution introduction ouasar resources pty ltd quasar commence joint venture corrobinnie jv adelaide resource limit january allow ouasar earn interest tenement package cover km northern eyre peninsula tenement package reduce km relinquishment past four year figure annual rehabilitation status report detail rehabilitation activity complete ouasar corrobinnie jv calendar year february march rehabilitation outstanding drill site air core drilling program complete exploration conduct exploration activity undertake reporting period rehabilitation exploration site february march rehabilitation dril site air core program complete figure refer table detail drill site rehabilitate drill site locate three exploration licence joint venture el area cover yardea map sheet air core drilling process include collect store drill cutting green plastic bag drill site photograph green sample bag remain drill site rehabilitation complete rehabilitation process involve clearing cutting drill spoil green sample bag drill site site clear disturbed ground flatten scarify collect cutting green bag take local dump designate pit dig local council prior commencement rehabilitation work photograph track create drilling scarify necessary obscure tree minimise visual impact photograph exploration hole rehabilitate st january st december holeid exploration el easte northe depth rehabbe hole license mn type cba corrobinnie yes aircore cba corrobinnie yes aircore cba corrobinnie yes aircore cba corrobinnie yes aircore cba corrobinnie yes aircore cba corrobinnie yes aircore cba corrobinnie yes aircore cba corrobinnie yes aircore cba corrobinnie yes aircore cba corrobinnie yes aircore cba corrobinnie yes aircore cba corrobinnie yes aircore cba corrobinnie yes aircore cba corrobinnie yes aircore cba corrobinnie yes aircore cba corrobinnie yes aircore cba corrobinnie yes aircore cba corrobinnie yes aircore cba corrobinnie yes aircore cba corrobinnie yes aircore cba corrobinnie yes aircore cba corrobinnie yes aircore cba corrobinnie yes aircore cba corrobinnie yes aircore cba corrobinnie yes aircore cba corrobinnie yes aircore cba corrobinnie yes aircore cba corrobinnie yes aircore cba corrobinnie yes aircore cba corrobinnie yes aircore cba corrobinnie yes aircore cba corrobinnie yes aircore cba corrobinnie yes aircore cba corrobinnie yes aircore cba corrobinnie yes aircore holeid exploration cba corrobinnie cbao corrobinnie cba corrobinnie cba corrobinnie cba corrobinnie cba corrobinnie cba corrobinnie cba corrobinnie cba corrobinnie cba corrobinnie cba corrobinnie cbao corrobinnie cba corrobinnie cba corrobinnie cba corrobinnie cba corrobinnie cba corrobinnie cba corrobinnie cba corrobinnie cba corrobinnie cba corrobinnie cba corrobinnie cba corrobinnie cba corrobinnie cba corrobinnie cba corrobinnie cba corrobinnie cba corrobinnie cba corrobinnie cba corrobinnie cba corrobinnie cba corrobinnie cba corrobinnie cba corrobinnie cba corrobinnie cba corrobinnie cba corrobinnie cba corrobinnie cba corrobinnie el northing mn easting depth rehabbe yes yes yes yes yes yes yes yes yes yes yes yes yes yes yes yes yes yes yes yes yes yes yes yes yes yes yes yes yes yes yes yes yes yes yes yes yes yes yes hole type aircore aircore aircore aircore aircore aircore aircore aircore aircore aircore aircore aircore aircore aircore aircore aircore aircore aircore aircore aircore aircore aircore aircore aircore aircore aircore aircore aircore aircore aircore aircore aircore aircore aircore aircore aircore aircore aircore aircore license holeid exploration cba corrobinnie cba corrobinnie cba corrobinnie cba corrobinnie cba corrobinnie cba corrobinnie cba corrobinnie cba corrobinnie cba corrobinnie cba corrobinnie cba corrobinnie cba corrobinnie cba corrobinnie cba corrobinnie cba corrobinnie cba corrobinnie cba corrobinnie pda pda pda pda pda pda pda pda pda pda pda pda pda pda pda pda pda pda pda pda pdaa pda el northing mn easting depth rehabbe yes yes yes yes yes yes yes yes yes yes yes yes yes yes yes yes yes yes yes yes yes yes yes yes yes yes yes yes yes yes yes yes yes yes yes yes yes yes yes hole type aircore aircore aircore aircore aircore aircore aircore aircore aircore aircore aircore aircore aircore aircore aircore aircore aircore aircore aircore aircore aircore aircore aircore aircore aircore aircore aircore aircore aircore aircore aircore aircore aircore aircore aircore aircore aircore aircore aircore license pildappa pildappa pildappa pildappa pildappa pildappa pildappa pildappa pildappa pildappa pildappa pildappa pildappa pildappa pildappa pildappa pildappa pildappa pildappa pildappa pildappa pildappa holeid exploration pda pda pda pda pildappa pda pildappa pda pda pda pda pka pinkawillinie pka pinkawillinie pka pinkawillinie pka pinkawillinie pka pinkawillinie pka pinkawillinie pka pinkawillinie pka pinkawillinie pka pinkawillinie pka pinkawillinie pka pinkawillinie pka pinkawillinie pka pinkawillinie pka pinkawillinie pka pinkawillinie pka pinkawillinie pka pinkawillinie pka pinkawillinie pka pinkawillinie pka pinkawillinie pka pinkawillinie pka pinkawillinie pka pinkawillinie pka pinkawillinie pka pinkawillinie pka pinkawillinie pkao pinkawillinie pka pinkawillinie pka pinkawillinie pka pinkawillinie el northing mn easting depth rehabbe yes yes yes yes yes yes yes yes yes yes yes yes yes yes yes yes yes yes yes yes yes yes yes yes yes yes yes yes yes yes yes yes yes yes yes yes yes yes yes hole type aircore aircore aircore aircore aircore aircore aircore aircore aircore aircore aircore aircore aircore aircore aircore aircore aircore aircore aircore aircore aircore aircore aircore aircore aircore aircore aircore aircore aircore aircore aircore aircore aircore aircore aircore aircore aircore aircore aircore license pildappa pildappa pildappa pildappa pildappa pildappa pildappa holeid exploration pka pinkawillinie pka pinkawillinie pka pinkawillinie pka pinkawillinie pka pinkawillinie pka pinkawillinie pkao pinkawillinie pka pinkawillinie pka pinkawillinie pka pinkawillinie photograph typical rehabilitate site representative photograph dril site area rehabilitation show photograph typical drill site pka program drill el northing mn easting depth rehabbe yes yes yes yes yes yes yes yes yes yes hole type aircore aircore aircore aircore aircore aircore aircore aircore aircore aircore license photograph cba rehabilitation photograph cba rehabilitation photograph cba rehabilitation photograph cba rehabilitation photograph pka pka rehabilitation photograph rehabilitation entrance track drill photograph access track main track rehabilitation photograph access track rehabilitation streaky bay elliston quasar eyre group gawler craton project barnes scale el quasar resources pty ltd level grenfell street adelaide sa australia abn corrobinnie jv tenement locality plan figure draw datum mga gda plan el adelaide resource nlytenement adelaide resource quasar jv area adelaide resource quasar jv area basement cover kilometre sh childara title request date sh gairdner yardea el el el el el si kimba cover el scale el hewett adlre tl ei quasar resources pty ltd quasar level grenfell street adelaide sa australia abn eyre group gawler craton corrobinnie jv holes rehabilitate figure draw datum mga gda plan adlres tlo ei ei ei ei ei ei project title request scale date kilometre adelaide resource quasar jv tenements hole rehabilitate reporting period barnes hewett ei adelaide resource limit king william road unley sa po box unley bc sa adresadelaideresources com au email www adelaideresources com au annual letter report eyre peninsula amalgamate exploration agreement exploration licence previously twelve exploration licence list subject amalgamate exploration agreement adelaide resource limit dmitre el recently relinquish appear subsequent identify tenement hold peninsula resource limit wholly owned subsidiary company exception three tenement el el el licence subject joint venture quasar resources pty ltd quasar explore uranium deposit el acraman hold solely peninsula resource el kimba el verran part joint venture peninsula resource hold olliver geological service hold corrobinnie uranium joint venture cujv quasar resources pty ltd adelaide resource search uranium northern eyre peninsula south australia dissolve reporting period cujv carry exploration drilling work eyre peninsula reporting period adelaide resource carry exploration drilling work eyre peninsula company concentrate office base work associate cujv aea include write submit declaration environmental factor program biogeochemical sampling geochemical soil calcrete sampling drilling el within pinkawillinie conservation park rewrite def biogeochemical sampling geochemical soil calcrete sampling rewrite native title document complete advertising process agree condition quasar resources withdrawal corrobinnie uranium joint venture feb assignment adelaide resource peninsula native title agreement work area clearance barngarla ilua gawler range claimant group upon solicitor review barngarla agreement agreement find legislatively require nt advertising process complete quasar peninsula resource party agreement despite quasar complete aboriginal site clearance subsequently drill el tenement cover agreement agreement register dmitre satisfy part mining act provide shareholder discovery opportunity tel fax abn th march el report officer mineral resources division dmitre th floor grenfell st adelaide sa dear sir madam period january december introduction aea annual report adelaide resource limit tenement quasar resource act manager operator cujv work undertake period peninsula take legal advice form view comply obligation mining act end agreement could register tenement satisfy part mining act necessary complete native title advertising process time would agreement amend include peninsula resource party include el agreement make clear agreement register title satisfy part review empire historical geochemistry drilling result plan program geochemica sampling include field portable ray fluorescence analysis biogeochemical sampling calcrete sampling soil sampling positive meeting hold barngarla people th november expensive native title advertising complete th december required two month advertising period expire feb nt claimant raise hand adelaide resource anticipate execute amend agreement barngarla people mid march adelaide resource unsure quickly quasar execute deed assignment amend agreement prove slow respond request since withdraw corrobinnie uranium jv however upon execution peninsulaladelaide register amend agreement satisfy part december quasar advise intention withdraw corrobinnie uranium joint venture withdrawal provision quasar interest joint venture transfer adelaide resource consideration effective february quasar spend million exploration term joint venture discover uranium two palaeochannel anomalous gold uranium host basement rock follow completion quasar withdrawal adelaide resource eyre peninsula project comprise tenement secure total area km km adelaide resource km adelaide resource previous exploration adelaide resource past joint venturer eyre peninsula focusse gold work lead discovery significant gold mineralisation barn baggy green white tank deposit identify numerous prospect target remain investigate company believe significant potential remain discover attractive grade gold mineralisation deposit baggy green barn additionally three eyre peninsula tenement revert adelaide resource ownership follow quasar withdrawal adjoin exploration licence investigator resource limited paris silver discovery locate adelaide resources review silver potential tenement holding light positive result neighbour achieve advise last year aea meeting peninsulaladelaide keen trial biogeochemistry see method solve problem explore large area project calcrete either absent soil profile develop depth hand sampling option plan seek advice dmitre steve hill respect program also csiro dr mel lintern gold tree research barn deposit locate project directly applicable first instance plan trial method empire anomaly pinkawillinnie end def apply early follow discussion dmitre field visit site dewnr ranger responsible area resubmission def take account concern dewnr pepr def approve th feb geochemical biogeochemical sampling another detailed specific def request drilling approve notably field visit confirm much area burn bushfire availability leaf material may limit veg recovery also environmental approval obtain complete drilling baggy green prospect explore high grade shoot gold mineralisation take place documentation satisfy native title legislative requirement complete however another pepr def require drilling complete empire provide shareholder discovery opportunity cujv dissolution strategy go forward plan activity period january december total expenditure adelaide resource quasar outline table table adelaide resource quasar resource expenditure january december expenditure item adelaide resource quasar resource total total expenditure total expenditure expenditure personnel title drill analytical logistic project organisation admin total expenditure table expenditure tenement tenement number tenement name expenditure el wudinna el minnipa el mt el pildappa el yaninee el waddikee el kimba el acraman el pinkawillinie el verran el thurlga el corrobinnie future funding company also continue effort attract joint venture funding project geotechnical dataset make available five group one junior explorer three multinational mineral producer one chinese group year chinese group interest spark adelaide participation australia china minerals investment summit organise sa nt government hold darwin april approach first four group vary unsolicited approach make us vice versa first four group reject opportunity chinese group review remain underway project also advertise mining asset mining property real estate site company also hold discussion another list australian miner explore possible idea project however would likely require change market sentiment successful conclusion adelaide resource request letter accept satisfy annual statutory reporting commitment eyre peninsula aea tenements year end december please hesitate contact require information sincerely mark manly exploration manager adelaide resources limited ph fax mob www adelaideresources com au provide shareholder discovery opportunity\n"
     ]
    }
   ],
   "source": [
    "print(processed_doc)"
   ]
  },
  {
   "cell_type": "code",
   "execution_count": null,
   "metadata": {},
   "outputs": [],
   "source": []
  }
 ]
}