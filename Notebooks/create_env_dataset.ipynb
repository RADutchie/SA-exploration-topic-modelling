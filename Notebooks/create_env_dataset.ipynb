{
 "metadata": {
  "language_info": {
   "codemirror_mode": {
    "name": "ipython",
    "version": 3
   },
   "file_extension": ".py",
   "mimetype": "text/x-python",
   "name": "python",
   "nbconvert_exporter": "python",
   "pygments_lexer": "ipython3",
   "version": "3.7.0-final"
  },
  "orig_nbformat": 2,
  "kernelspec": {
   "name": "python3",
   "display_name": "Python 3.7.0 64-bit ('NLP': conda)",
   "metadata": {
    "interpreter": {
     "hash": "a06e355e6075423bdf8bd23b5b89df8bb519c6a64a50e8fa62fdc2a0514c199b"
    }
   }
  }
 },
 "nbformat": 4,
 "nbformat_minor": 2,
 "cells": [
  {
   "cell_type": "code",
   "execution_count": 1,
   "metadata": {},
   "outputs": [],
   "source": [
    "import os\n",
    "import pandas as pd\n",
    "import numpy as np\n",
    "from pathlib import Path \n",
    "import dask.dataframe as dd\n",
    "from helper.text_preprocessor import preprocess_doc \n",
    "\n",
    "pd.set_option('max_columns', 30)\n"
   ]
  },
  {
   "source": [
    "## Scan a directory of envelope txt files, create a dict of env file name: text as string pairs. Remove new line characters and then convert to pandas df"
   ],
   "cell_type": "markdown",
   "metadata": {}
  },
  {
   "cell_type": "code",
   "execution_count": 2,
   "metadata": {},
   "outputs": [],
   "source": [
    "#scan a file directory and return a list of pdf files to iterate over\n",
    "\n",
    "env_path = Path(r'D:\\Python ML\\Envelope-key-words\\Data\\Raw\\Envelopes')\n",
    "\n",
    "\n",
    "env_dict = {}\n",
    "with os.scandir(env_path) as it:\n",
    "    for entry in it:\n",
    "        if entry.name.endswith(\".txt\") and entry.is_file():\n",
    "            with open(entry, 'r') as file:\n",
    "                data = file.read().replace('\\n', '')\n",
    "                env_dict[entry.name] = data\n",
    "\n",
    "envs_df = pd.DataFrame(list(env_dict.items()), columns=['ID', 'envelopeOCR'])"
   ]
  },
  {
   "cell_type": "code",
   "execution_count": 3,
   "metadata": {},
   "outputs": [],
   "source": [
    "envs_df['ID'] = envs_df['ID'].str.split('.').str[0].str.strip()\n",
    "envs_df['ID'] = envs_df['ID'].astype('string')\n",
    "#envs_df.set_index('ID', inplace=True)"
   ]
  },
  {
   "cell_type": "code",
   "execution_count": 4,
   "metadata": {},
   "outputs": [
    {
     "output_type": "execute_result",
     "data": {
      "text/plain": [
       "               ID                                        envelopeOCR\n",
       "3636     ENV06946  Open File EnvelopeNo. 6946ML 47, ML 3?7 AND ML...\n",
       "3958  ENV07700002  South Australia Business UnitSantos LtdA.C.N. ..."
      ],
      "text/html": "<div>\n<style scoped>\n    .dataframe tbody tr th:only-of-type {\n        vertical-align: middle;\n    }\n\n    .dataframe tbody tr th {\n        vertical-align: top;\n    }\n\n    .dataframe thead th {\n        text-align: right;\n    }\n</style>\n<table border=\"1\" class=\"dataframe\">\n  <thead>\n    <tr style=\"text-align: right;\">\n      <th></th>\n      <th>ID</th>\n      <th>envelopeOCR</th>\n    </tr>\n  </thead>\n  <tbody>\n    <tr>\n      <th>3636</th>\n      <td>ENV06946</td>\n      <td>Open File EnvelopeNo. 6946ML 47, ML 3?7 AND ML...</td>\n    </tr>\n    <tr>\n      <th>3958</th>\n      <td>ENV07700002</td>\n      <td>South Australia Business UnitSantos LtdA.C.N. ...</td>\n    </tr>\n  </tbody>\n</table>\n</div>"
     },
     "metadata": {},
     "execution_count": 4
    }
   ],
   "source": [
    "envs_df.sample(2)"
   ]
  },
  {
   "cell_type": "code",
   "execution_count": 5,
   "metadata": {
    "tags": []
   },
   "outputs": [
    {
     "output_type": "stream",
     "name": "stdout",
     "text": [
      "<class 'pandas.core.frame.DataFrame'>\nRangeIndex: 7839 entries, 0 to 7838\nData columns (total 2 columns):\n #   Column       Non-Null Count  Dtype \n---  ------       --------------  ----- \n 0   ID           7839 non-null   string\n 1   envelopeOCR  7839 non-null   object\ndtypes: object(1), string(1)\nmemory usage: 122.6+ KB\n"
     ]
    }
   ],
   "source": [
    "envs_df.info()"
   ]
  },
  {
   "source": [
    "## Open mer-env bucket index as pandas df"
   ],
   "cell_type": "markdown",
   "metadata": {}
  },
  {
   "cell_type": "code",
   "execution_count": 6,
   "metadata": {},
   "outputs": [],
   "source": [
    "# first need to convert encoding of the index csv file, then open\n",
    "#env_load = pd.read_csv(r'D:\\Python ML\\Envelope-key-words\\Data\\Raw\\mer-env AWS Bucket content index_20200227.csv', encoding =\"ISO-8859-1\")\n",
    "#env_load.to_csv(r'D:\\Python ML\\Envelope-key-words\\Data\\Interim\\mer-env AWS Bucket content index_20200227.csv',encoding='utf-8', index=False)\n",
    "env_index = pd.read_csv(r'D:\\Python ML\\Envelope-key-words\\Data\\Interim\\mer-env AWS Bucket content index_20200227.csv')"
   ]
  },
  {
   "cell_type": "code",
   "execution_count": 7,
   "metadata": {
    "tags": []
   },
   "outputs": [
    {
     "output_type": "stream",
     "name": "stdout",
     "text": [
      "<class 'pandas.core.frame.DataFrame'>\nRangeIndex: 10133 entries, 0 to 10132\nData columns (total 25 columns):\n #   Column                  Non-Null Count  Dtype  \n---  ------                  --------------  -----  \n 0   Reference               10133 non-null  object \n 1   Category                10133 non-null  object \n 2   Title                   10133 non-null  object \n 3   Publication Date        9128 non-null   object \n 4   Author                  7618 non-null   object \n 5   Prepared by             5647 non-null   object \n 6   Source                  10133 non-null  object \n 7   Collation               8479 non-null   object \n 8   Format                  10028 non-null  object \n 9   Client                  2705 non-null   object \n 10  Broad Subject           8776 non-null   object \n 11  Subject Terms           8809 non-null   object \n 12  Abstract                6601 non-null   object \n 13  Notes                   4006 non-null   object \n 14  Tenement                7642 non-null   object \n 15  Licensee                8147 non-null   object \n 16  Mine Name               3415 non-null   object \n 17  Map Sheet               10128 non-null  object \n 18  Locality                7709 non-null   object \n 19  Geol. Province          8039 non-null   object \n 20  Drillhole               3982 non-null   object \n 21  Assays                  3007 non-null   object \n 22  Stratigraphy            4300 non-null   object \n 23  Date Added              10133 non-null  object \n 24  Download Document Size  8815 non-null   float64\ndtypes: float64(1), object(24)\nmemory usage: 1.9+ MB\n"
     ]
    }
   ],
   "source": [
    "env_index.info()"
   ]
  },
  {
   "cell_type": "code",
   "execution_count": 8,
   "metadata": {},
   "outputs": [
    {
     "output_type": "execute_result",
     "data": {
      "text/plain": [
       "   Reference                                       Category  \\\n",
       "0  Env 00001  Company petroleum exploration licence reports   \n",
       "1  Env 00002  Company petroleum exploration licence reports   \n",
       "\n",
       "                                               Title Publication Date  \\\n",
       "0  Wilkatana borehole grid surface plan and cross...        14-Aug-56   \n",
       "1  Interim report of the geological investigation...        30-Jun-56   \n",
       "\n",
       "                               Author  \\\n",
       "0                            King, D.   \n",
       "1  Scott, D.C.;Wopfner, H.;Grasso, R.   \n",
       "\n",
       "                                         Prepared by  \\\n",
       "0  South Australia. Department of Mines;Geologica...   \n",
       "1                        Geosurveys of Australia Ltd   \n",
       "\n",
       "                                              Source  \\\n",
       "0  South Australia. Department of Mines. Open fil...   \n",
       "1  South Australia. Department of Mines. Open fil...   \n",
       "\n",
       "                                         Collation             Format  \\\n",
       "0                         Fiche range: 2, 1 plans,  Hard Copy Digital   \n",
       "1  Total fiche: 2, Total pages: 4, 1 plans, 1 reps  Digital Hard Copy   \n",
       "\n",
       "                         Client                             Broad Subject  \\\n",
       "0  Santos Ltd;Director of Mines            Petroleum exploration;Drilling   \n",
       "1                           NaN  Petroleum exploration;Structural geology   \n",
       "\n",
       "                                       Subject Terms  \\\n",
       "0  Sedimentary basins;Petroleum migration;Hydroca...   \n",
       "1             Photointerpretation;Geological mapping   \n",
       "\n",
       "                                            Abstract Notes  Tenement  \\\n",
       "0  No text. Data (prepared by the author) consist...   NaN  OEL00007   \n",
       "1  Survey aimed to obtain broad structural pictur...   NaN       NaN   \n",
       "\n",
       "     Licensee Mine Name                                          Map Sheet  \\\n",
       "0  Santos Ltd       NaN                                 PORT AUGUSTA;6433I   \n",
       "1  Santos Ltd       NaN  PORT AUGUSTA;6433I;ORROROO;6533;PARACHILNA;653...   \n",
       "\n",
       "          Locality                      Geol. Province Drillhole Assays  \\\n",
       "0        Wilkatana   Pirie Torrens Basin;Arrowie Basin       NaN    NaN   \n",
       "1  Flinders Ranges  Arrowie Basin;Adelaide Geosyncline       NaN    NaN   \n",
       "\n",
       "  Stratigraphy  Date Added  Download Document Size  \n",
       "0          NaN  20/08/1986                  1567.0  \n",
       "1          NaN  20/08/1986                   186.0  "
      ],
      "text/html": "<div>\n<style scoped>\n    .dataframe tbody tr th:only-of-type {\n        vertical-align: middle;\n    }\n\n    .dataframe tbody tr th {\n        vertical-align: top;\n    }\n\n    .dataframe thead th {\n        text-align: right;\n    }\n</style>\n<table border=\"1\" class=\"dataframe\">\n  <thead>\n    <tr style=\"text-align: right;\">\n      <th></th>\n      <th>Reference</th>\n      <th>Category</th>\n      <th>Title</th>\n      <th>Publication Date</th>\n      <th>Author</th>\n      <th>Prepared by</th>\n      <th>Source</th>\n      <th>Collation</th>\n      <th>Format</th>\n      <th>Client</th>\n      <th>Broad Subject</th>\n      <th>Subject Terms</th>\n      <th>Abstract</th>\n      <th>Notes</th>\n      <th>Tenement</th>\n      <th>Licensee</th>\n      <th>Mine Name</th>\n      <th>Map Sheet</th>\n      <th>Locality</th>\n      <th>Geol. Province</th>\n      <th>Drillhole</th>\n      <th>Assays</th>\n      <th>Stratigraphy</th>\n      <th>Date Added</th>\n      <th>Download Document Size</th>\n    </tr>\n  </thead>\n  <tbody>\n    <tr>\n      <th>0</th>\n      <td>Env 00001</td>\n      <td>Company petroleum exploration licence reports</td>\n      <td>Wilkatana borehole grid surface plan and cross...</td>\n      <td>14-Aug-56</td>\n      <td>King, D.</td>\n      <td>South Australia. Department of Mines;Geologica...</td>\n      <td>South Australia. Department of Mines. Open fil...</td>\n      <td>Fiche range: 2, 1 plans,</td>\n      <td>Hard Copy Digital</td>\n      <td>Santos Ltd;Director of Mines</td>\n      <td>Petroleum exploration;Drilling</td>\n      <td>Sedimentary basins;Petroleum migration;Hydroca...</td>\n      <td>No text. Data (prepared by the author) consist...</td>\n      <td>NaN</td>\n      <td>OEL00007</td>\n      <td>Santos Ltd</td>\n      <td>NaN</td>\n      <td>PORT AUGUSTA;6433I</td>\n      <td>Wilkatana</td>\n      <td>Pirie Torrens Basin;Arrowie Basin</td>\n      <td>NaN</td>\n      <td>NaN</td>\n      <td>NaN</td>\n      <td>20/08/1986</td>\n      <td>1567.0</td>\n    </tr>\n    <tr>\n      <th>1</th>\n      <td>Env 00002</td>\n      <td>Company petroleum exploration licence reports</td>\n      <td>Interim report of the geological investigation...</td>\n      <td>30-Jun-56</td>\n      <td>Scott, D.C.;Wopfner, H.;Grasso, R.</td>\n      <td>Geosurveys of Australia Ltd</td>\n      <td>South Australia. Department of Mines. Open fil...</td>\n      <td>Total fiche: 2, Total pages: 4, 1 plans, 1 reps</td>\n      <td>Digital Hard Copy</td>\n      <td>NaN</td>\n      <td>Petroleum exploration;Structural geology</td>\n      <td>Photointerpretation;Geological mapping</td>\n      <td>Survey aimed to obtain broad structural pictur...</td>\n      <td>NaN</td>\n      <td>NaN</td>\n      <td>Santos Ltd</td>\n      <td>NaN</td>\n      <td>PORT AUGUSTA;6433I;ORROROO;6533;PARACHILNA;653...</td>\n      <td>Flinders Ranges</td>\n      <td>Arrowie Basin;Adelaide Geosyncline</td>\n      <td>NaN</td>\n      <td>NaN</td>\n      <td>NaN</td>\n      <td>20/08/1986</td>\n      <td>186.0</td>\n    </tr>\n  </tbody>\n</table>\n</div>"
     },
     "metadata": {},
     "execution_count": 8
    }
   ],
   "source": [
    "env_index.head(2)"
   ]
  },
  {
   "cell_type": "code",
   "execution_count": 9,
   "metadata": {},
   "outputs": [],
   "source": [
    "# correct the reference col to match the formatting of the 'ID' col in envs_df\n",
    "temp_env1 = env_index['Reference'].str.split('p:').str[0].str.split(';').str[0].str.upper().str.split(' ').str[:2].str.join('').str.replace('/','')\n",
    "temp_env2 = env_index['Reference'].str.split('p:').str[0].str.upper().str.split(' ').str[2:].str.join(' ').str.strip()\n",
    "temp_env3 = temp_env1.str.cat(temp_env2, sep= ' ')\n",
    "temp_env3 = temp_env3.astype('string')"
   ]
  },
  {
   "cell_type": "code",
   "execution_count": 10,
   "metadata": {},
   "outputs": [
    {
     "output_type": "execute_result",
     "data": {
      "text/plain": [
       "  Reference                                       Category  \\\n",
       "0  ENV00001  Company petroleum exploration licence reports   \n",
       "1  ENV00002  Company petroleum exploration licence reports   \n",
       "\n",
       "                                               Title Publication Date  \\\n",
       "0  Wilkatana borehole grid surface plan and cross...        14-Aug-56   \n",
       "1  Interim report of the geological investigation...        30-Jun-56   \n",
       "\n",
       "                               Author  \\\n",
       "0                            King, D.   \n",
       "1  Scott, D.C.;Wopfner, H.;Grasso, R.   \n",
       "\n",
       "                                         Prepared by  \\\n",
       "0  South Australia. Department of Mines;Geologica...   \n",
       "1                        Geosurveys of Australia Ltd   \n",
       "\n",
       "                                              Source  \\\n",
       "0  South Australia. Department of Mines. Open fil...   \n",
       "1  South Australia. Department of Mines. Open fil...   \n",
       "\n",
       "                                         Collation             Format  \\\n",
       "0                         Fiche range: 2, 1 plans,  Hard Copy Digital   \n",
       "1  Total fiche: 2, Total pages: 4, 1 plans, 1 reps  Digital Hard Copy   \n",
       "\n",
       "                         Client                             Broad Subject  \\\n",
       "0  Santos Ltd;Director of Mines            Petroleum exploration;Drilling   \n",
       "1                           NaN  Petroleum exploration;Structural geology   \n",
       "\n",
       "                                       Subject Terms  \\\n",
       "0  Sedimentary basins;Petroleum migration;Hydroca...   \n",
       "1             Photointerpretation;Geological mapping   \n",
       "\n",
       "                                            Abstract Notes  Tenement  \\\n",
       "0  No text. Data (prepared by the author) consist...   NaN  OEL00007   \n",
       "1  Survey aimed to obtain broad structural pictur...   NaN       NaN   \n",
       "\n",
       "     Licensee Mine Name                                          Map Sheet  \\\n",
       "0  Santos Ltd       NaN                                 PORT AUGUSTA;6433I   \n",
       "1  Santos Ltd       NaN  PORT AUGUSTA;6433I;ORROROO;6533;PARACHILNA;653...   \n",
       "\n",
       "          Locality                      Geol. Province Drillhole Assays  \\\n",
       "0        Wilkatana   Pirie Torrens Basin;Arrowie Basin       NaN    NaN   \n",
       "1  Flinders Ranges  Arrowie Basin;Adelaide Geosyncline       NaN    NaN   \n",
       "\n",
       "  Stratigraphy  Date Added  Download Document Size  \n",
       "0          NaN  20/08/1986                  1567.0  \n",
       "1          NaN  20/08/1986                   186.0  "
      ],
      "text/html": "<div>\n<style scoped>\n    .dataframe tbody tr th:only-of-type {\n        vertical-align: middle;\n    }\n\n    .dataframe tbody tr th {\n        vertical-align: top;\n    }\n\n    .dataframe thead th {\n        text-align: right;\n    }\n</style>\n<table border=\"1\" class=\"dataframe\">\n  <thead>\n    <tr style=\"text-align: right;\">\n      <th></th>\n      <th>Reference</th>\n      <th>Category</th>\n      <th>Title</th>\n      <th>Publication Date</th>\n      <th>Author</th>\n      <th>Prepared by</th>\n      <th>Source</th>\n      <th>Collation</th>\n      <th>Format</th>\n      <th>Client</th>\n      <th>Broad Subject</th>\n      <th>Subject Terms</th>\n      <th>Abstract</th>\n      <th>Notes</th>\n      <th>Tenement</th>\n      <th>Licensee</th>\n      <th>Mine Name</th>\n      <th>Map Sheet</th>\n      <th>Locality</th>\n      <th>Geol. Province</th>\n      <th>Drillhole</th>\n      <th>Assays</th>\n      <th>Stratigraphy</th>\n      <th>Date Added</th>\n      <th>Download Document Size</th>\n    </tr>\n  </thead>\n  <tbody>\n    <tr>\n      <th>0</th>\n      <td>ENV00001</td>\n      <td>Company petroleum exploration licence reports</td>\n      <td>Wilkatana borehole grid surface plan and cross...</td>\n      <td>14-Aug-56</td>\n      <td>King, D.</td>\n      <td>South Australia. Department of Mines;Geologica...</td>\n      <td>South Australia. Department of Mines. Open fil...</td>\n      <td>Fiche range: 2, 1 plans,</td>\n      <td>Hard Copy Digital</td>\n      <td>Santos Ltd;Director of Mines</td>\n      <td>Petroleum exploration;Drilling</td>\n      <td>Sedimentary basins;Petroleum migration;Hydroca...</td>\n      <td>No text. Data (prepared by the author) consist...</td>\n      <td>NaN</td>\n      <td>OEL00007</td>\n      <td>Santos Ltd</td>\n      <td>NaN</td>\n      <td>PORT AUGUSTA;6433I</td>\n      <td>Wilkatana</td>\n      <td>Pirie Torrens Basin;Arrowie Basin</td>\n      <td>NaN</td>\n      <td>NaN</td>\n      <td>NaN</td>\n      <td>20/08/1986</td>\n      <td>1567.0</td>\n    </tr>\n    <tr>\n      <th>1</th>\n      <td>ENV00002</td>\n      <td>Company petroleum exploration licence reports</td>\n      <td>Interim report of the geological investigation...</td>\n      <td>30-Jun-56</td>\n      <td>Scott, D.C.;Wopfner, H.;Grasso, R.</td>\n      <td>Geosurveys of Australia Ltd</td>\n      <td>South Australia. Department of Mines. Open fil...</td>\n      <td>Total fiche: 2, Total pages: 4, 1 plans, 1 reps</td>\n      <td>Digital Hard Copy</td>\n      <td>NaN</td>\n      <td>Petroleum exploration;Structural geology</td>\n      <td>Photointerpretation;Geological mapping</td>\n      <td>Survey aimed to obtain broad structural pictur...</td>\n      <td>NaN</td>\n      <td>NaN</td>\n      <td>Santos Ltd</td>\n      <td>NaN</td>\n      <td>PORT AUGUSTA;6433I;ORROROO;6533;PARACHILNA;653...</td>\n      <td>Flinders Ranges</td>\n      <td>Arrowie Basin;Adelaide Geosyncline</td>\n      <td>NaN</td>\n      <td>NaN</td>\n      <td>NaN</td>\n      <td>20/08/1986</td>\n      <td>186.0</td>\n    </tr>\n  </tbody>\n</table>\n</div>"
     },
     "metadata": {},
     "execution_count": 10
    }
   ],
   "source": [
    "env_index['Reference'] = temp_env3.str.strip()\n",
    "#env_index.set_index('Reference', inplace= True)\n",
    "env_index.head(2)\n",
    "    "
   ]
  },
  {
   "cell_type": "code",
   "execution_count": 11,
   "metadata": {
    "tags": []
   },
   "outputs": [
    {
     "output_type": "stream",
     "name": "stdout",
     "text": [
      "<class 'pandas.core.frame.DataFrame'>\nRangeIndex: 10133 entries, 0 to 10132\nData columns (total 25 columns):\n #   Column                  Non-Null Count  Dtype  \n---  ------                  --------------  -----  \n 0   Reference               10133 non-null  string \n 1   Category                10133 non-null  object \n 2   Title                   10133 non-null  object \n 3   Publication Date        9128 non-null   object \n 4   Author                  7618 non-null   object \n 5   Prepared by             5647 non-null   object \n 6   Source                  10133 non-null  object \n 7   Collation               8479 non-null   object \n 8   Format                  10028 non-null  object \n 9   Client                  2705 non-null   object \n 10  Broad Subject           8776 non-null   object \n 11  Subject Terms           8809 non-null   object \n 12  Abstract                6601 non-null   object \n 13  Notes                   4006 non-null   object \n 14  Tenement                7642 non-null   object \n 15  Licensee                8147 non-null   object \n 16  Mine Name               3415 non-null   object \n 17  Map Sheet               10128 non-null  object \n 18  Locality                7709 non-null   object \n 19  Geol. Province          8039 non-null   object \n 20  Drillhole               3982 non-null   object \n 21  Assays                  3007 non-null   object \n 22  Stratigraphy            4300 non-null   object \n 23  Date Added              10133 non-null  object \n 24  Download Document Size  8815 non-null   float64\ndtypes: float64(1), object(23), string(1)\nmemory usage: 1.9+ MB\n"
     ]
    }
   ],
   "source": [
    "env_index.info()"
   ]
  },
  {
   "cell_type": "code",
   "execution_count": 12,
   "metadata": {},
   "outputs": [],
   "source": [
    "# Merge two data frames into single dataset\n",
    "\n",
    "#envelopes_df = pd.merge(envs_df,env_index,how='inner',left_on='ID',right_on='Reference')\n",
    "\n",
    "# save merged df as interim dataset\n",
    "\n",
    "#envelopes_df.to_csv(Path(r'D:\\Python ML\\Envelope-key-words\\Data\\Interim\\merged_indexed_envelopes_20201003.csv'))\n",
    "\n",
    "envelopes_df = pd.read_csv(r'D:\\Python ML\\Envelope-key-words\\Data\\Interim\\merged_indexed_envelopes_20201003.csv', dtype='string')"
   ]
  },
  {
   "cell_type": "code",
   "execution_count": 11,
   "metadata": {
    "tags": []
   },
   "outputs": [
    {
     "output_type": "stream",
     "name": "stdout",
     "text": [
      "<class 'pandas.core.frame.DataFrame'>\nRangeIndex: 8554 entries, 0 to 8553\nData columns (total 28 columns):\n #   Column                  Non-Null Count  Dtype \n---  ------                  --------------  ----- \n 0   Unnamed: 0              8554 non-null   string\n 1   ID                      8554 non-null   string\n 2   envelopeOCR             8553 non-null   string\n 3   Reference               8554 non-null   string\n 4   Category                8554 non-null   string\n 5   Title                   8554 non-null   string\n 6   Publication Date        7699 non-null   string\n 7   Author                  6820 non-null   string\n 8   Prepared by             4519 non-null   string\n 9   Source                  8554 non-null   string\n 10  Collation               7375 non-null   string\n 11  Format                  8496 non-null   string\n 12  Client                  2386 non-null   string\n 13  Broad Subject           7528 non-null   string\n 14  Subject Terms           7648 non-null   string\n 15  Abstract                5895 non-null   string\n 16  Notes                   3609 non-null   string\n 17  Tenement                6978 non-null   string\n 18  Licensee                7497 non-null   string\n 19  Mine Name               3144 non-null   string\n 20  Map Sheet               8554 non-null   string\n 21  Locality                6770 non-null   string\n 22  Geol. Province          6855 non-null   string\n 23  Drillhole               3380 non-null   string\n 24  Assays                  2903 non-null   string\n 25  Stratigraphy            3840 non-null   string\n 26  Date Added              8554 non-null   string\n 27  Download Document Size  8054 non-null   string\ndtypes: string(28)\nmemory usage: 1.8 MB\n"
     ]
    }
   ],
   "source": [
    "envelopes_df.info()"
   ]
  },
  {
   "cell_type": "code",
   "execution_count": 13,
   "metadata": {
    "tags": []
   },
   "outputs": [
    {
     "output_type": "stream",
     "name": "stdout",
     "text": [
      "Hard Copy Digital               2883\nDigital                         2642\nDigital Hard Copy               2616\nHard Copy Microfiche Digital     202\nDigital Hard Copy Hard Copy      143\nHard Copy                          5\nMicrofiche Hard Copy Digital       5\nName: Format, dtype: Int64\n\n\nCompany mineral exploration licence reports                5619\nCompany petroleum exploration licence reports              1840\nDSD publications                                            451\nNon-DSD publications, theses and miscellaneous reports      408\nCompany mining program                                      109\nGeothermal exploration licence reports                       78\nDepartmental publications                                    33\nExternal publications, theses and miscellaneous reports      14\nMineral Production Licence report                             2\nName: Category, dtype: Int64\n"
     ]
    }
   ],
   "source": [
    "print(envelopes_df['Format'].value_counts())\n",
    "print('\\n')\n",
    "print(envelopes_df['Category'].value_counts())\n"
   ]
  },
  {
   "cell_type": "code",
   "execution_count": 14,
   "metadata": {},
   "outputs": [
    {
     "output_type": "execute_result",
     "data": {
      "text/plain": [
       "1965                                              EL00184\n",
       "733                                     EPP00008;OEL00022\n",
       "2357                                                 <NA>\n",
       "7967                                             EPP00032\n",
       "1661    EL00035;ML04051;ML04123;MC00182;MC00249;MC0651...\n",
       "1785                                              EL00109\n",
       "5188                                      EL01095;EL01114\n",
       "7871                                              EL04840\n",
       "7739                                                 <NA>\n",
       "480                                              OEL00022\n",
       "Name: Tenement, dtype: string"
      ]
     },
     "metadata": {},
     "execution_count": 14
    }
   ],
   "source": [
    "envelopes_df['Tenement'].sample(10)"
   ]
  },
  {
   "cell_type": "code",
   "execution_count": 15,
   "metadata": {},
   "outputs": [
    {
     "output_type": "execute_result",
     "data": {
      "text/plain": [
       "     Unnamed: 0        ID                                        envelopeOCR  \\\n",
       "6675       6675  ENV10624  Oren File EnvelopeNo. 10,624THE EYRE PENINSULA...   \n",
       "7406       7406  ENV11825  Ozen File EnvelopeNo. 11,825EL 3546, EL 3833 A...   \n",
       "7672       7672  ENV12134  Oren File EnvelopeNo. 12,134EL 3546 AND EL 383...   \n",
       "7735       7735  ENV12202  Open File EnvelopeNo. 12.202EL 3546, EL 3705, ...   \n",
       "8035       8035  ENV12534  Open File EnvelopeNo. 12,534EL 3546 / 479?MOUN...   \n",
       "\n",
       "     Reference                                     Category  \\\n",
       "6675  ENV10624  Company mineral exploration licence reports   \n",
       "7406  ENV11825  Company mineral exploration licence reports   \n",
       "7672  ENV12134  Company mineral exploration licence reports   \n",
       "7735  ENV12202  Company mineral exploration licence reports   \n",
       "8035  ENV12534  Company mineral exploration licence reports   \n",
       "\n",
       "                                                  Title Publication Date  \\\n",
       "6675  Data release - as updated [made at SA Director...             <NA>   \n",
       "7406  Mount Ive, Corrobinnie and Lake Acraman (part ...           Feb-11   \n",
       "7672  Mount Ive and Corrobinnie (part of the Eyre Pe...        28-Feb-11   \n",
       "7735  Mount Ive, Waddikee Rocks, Corrobinnie, Lake A...           Sep-11   \n",
       "8035  Mount Ive (part of the Eyre Peninsula Uranium ...           Feb-14   \n",
       "\n",
       "                                                 Author  \\\n",
       "6675  Drown, C.G.;McAvaney, D.J.;Caon, J.;Barnes, J....   \n",
       "7406                                     Badenhorst, T.   \n",
       "7672                              Hewett, A.H.;Caon, J.   \n",
       "7735                                     Badenhorst, T.   \n",
       "8035                                          Manly, M.   \n",
       "\n",
       "                                           Prepared by  \\\n",
       "6675                              Geosolutions Pty Ltd   \n",
       "7406                                              <NA>   \n",
       "7672                                              <NA>   \n",
       "7735                            Adelaide Resources Ltd   \n",
       "8035  Daishsat Geodetic Surveyors;GeoSolutions Pty Ltd   \n",
       "\n",
       "                                                 Source  \\\n",
       "6675  South Australia. Department of Primary Industr...   \n",
       "7406  South Australia. Department of Primary Industr...   \n",
       "7672  South Australia. Department of Primary Industr...   \n",
       "7735  South Australia. Department of Primary Industr...   \n",
       "8035  Government of South Australia. Department for ...   \n",
       "\n",
       "                                              Collation   Format  \\\n",
       "6675  Total pages: 283, 10 appx, figures, 8 ref, tab...  Digital   \n",
       "7406    Total pages: 13, 1 appx, 6 fig, 1 table, 1 reps  Digital   \n",
       "7672  Total pages: 27, 6 plans, appendices, 7 fig, t...  Digital   \n",
       "7735    Total pages: 31, 1 appx, 16 fig, tables, 1 reps  Digital   \n",
       "8035   Total pages: 20, 7 appx, 4 fig, 8 tables, 1 reps  Digital   \n",
       "\n",
       "                        Client  \\\n",
       "6675  Quasar Resources Pty Ltd   \n",
       "7406                      <NA>   \n",
       "7672                      <NA>   \n",
       "7735                      <NA>   \n",
       "8035   Heathgate Resources Ltd   \n",
       "\n",
       "                                          Broad Subject  \\\n",
       "6675  Mineral exploration - SA;Drilling;Sedimentary ...   \n",
       "7406              Mineral exploration - SA;Geochemistry   \n",
       "7672  Mineral exploration - SA;Geophysics;Drilling;S...   \n",
       "7735              Mineral exploration - SA;Geochemistry   \n",
       "8035  Mineral exploration - SA;Geophysics;Drilling;G...   \n",
       "\n",
       "                                          Subject Terms  \\\n",
       "6675  Gold exploration;Base metal exploration;Uraniu...   \n",
       "7406  Gold exploration;Base metal exploration;Epithe...   \n",
       "7672  Uranium exploration;Sedimentary ores;Palaeocha...   \n",
       "7735  Gold exploration;Base metal exploration;Epithe...   \n",
       "8035  Gold exploration;Base metal exploration;Epithe...   \n",
       "\n",
       "                                               Abstract  \\\n",
       "6675  During the sixth year of the project, licensee...   \n",
       "7406  The exploration strategy for the Joint Venture...   \n",
       "7672  Exploration of the Tertiary Thurlga Palaeochan...   \n",
       "7735  A group of 13 exploration licences located on ...   \n",
       "8035  The stated exploration strategy for the Joint ...   \n",
       "\n",
       "                                                  Notes  \\\n",
       "6675  This release to the public of the subject mine...   \n",
       "7406  A 493 sq km combined area was relinquished in ...   \n",
       "7672                                               <NA>   \n",
       "7735  See also the first and second partial relinqui...   \n",
       "8035  During the period 21/11/2006 until 19/2/2013, ...   \n",
       "\n",
       "                                               Tenement  \\\n",
       "6675  EL03296;EL03501;EL03546;EL03564;EL03700;EL0370...   \n",
       "7406                            EL03546;EL03833;EL04186   \n",
       "7672                                    EL03546;EL03833   \n",
       "7735            EL03546;EL03705;EL03833;EL04186;EL04690   \n",
       "8035                                    EL03546;EL04792   \n",
       "\n",
       "                                               Licensee Mine Name  \\\n",
       "6675  Peninsula Resources Limited;Quasar Resources P...      <NA>   \n",
       "7406  Eyre Energy Pty Ltd;Adelaide Resource Ltd;Quas...      <NA>   \n",
       "7672  Eyre Energy Pty Ltd;Adelaide Resource Ltd;Quas...      <NA>   \n",
       "7735  Eyre Energy Pty Ltd;Olliver Geological Service...      <NA>   \n",
       "8035  Peninsula Resources Ltd;Adelaide Exploration L...      <NA>   \n",
       "\n",
       "                                              Map Sheet  \\\n",
       "6675  STREAKY BAY;5832I;5832IV;5833;YARDEA;5932;5933...   \n",
       "7406  GAIRDNER;6034II;YARDEA;6033II;6033III;6133III;...   \n",
       "7672         YARDEA;6033II;6033III;6133III;KIMBA;6131IV   \n",
       "7735                  GAIRDNER;STREAKY BAY;YARDEA;KIMBA   \n",
       "8035                       YARDEA;6033II;6033III;6132IV   \n",
       "\n",
       "                                               Locality  \\\n",
       "6675  West-central Eyre Peninsula;Kyancutta;Minippa;...   \n",
       "7406  Northern Eyre Peninsula;Southern Gawler Ranges...   \n",
       "7672  Northern Eyre Peninsula;Southern Gawler Ranges...   \n",
       "7735  Northern Eyre Peninsula;Kimba;Minnipa;Kyancutt...   \n",
       "8035  Northern Eyre Peninsula;Southern Gawler Ranges...   \n",
       "\n",
       "                               Geol. Province  \\\n",
       "6675                Gawler Craton;Eucla Basin   \n",
       "7406  Gawler Craton;Coulta Domain;Eucla Basin   \n",
       "7672  Gawler Craton;Coulta Domain;Eucla Basin   \n",
       "7735                            Gawler Craton   \n",
       "8035  Gawler Craton;Coulta Domain;Eucla Basin   \n",
       "\n",
       "                                              Drillhole  \\\n",
       "6675  CBA001 - CBA023;(306226 - 306334);CBM0001 - CB...   \n",
       "7406                                               <NA>   \n",
       "7672                      MVA045;MVA046;MVA060 - MVA095   \n",
       "7735                                               <NA>   \n",
       "8035                  MVA001 - MVA059;(284625 - 284681)   \n",
       "\n",
       "                                                 Assays  \\\n",
       "6675  eU3O8;Au;Al;Ca;Fe;K;Mg;Mn;Zn;Ag;As;Bi;Cu;Pb;Sc...   \n",
       "7406                Au;Ag;As;Ca;Cu;Fe;Mg;Mn;Mo;Ni;Pb;Zn   \n",
       "7672  Au;Al;Ca;Fe;K;Mg;Mn;V;Zn;Ag;As;Bi;Cu;Pb;Sc;Se;...   \n",
       "7735                Ag;As;Au;Ca;Cr;Cu;Fe;Mg;Mn;Ni;Pb;Zn   \n",
       "8035  U;Th;Cu;Pb;Ag;As;Bi;Zn;Mn;Sc;Se;Al;K;Ca;Fe;Mg;...   \n",
       "\n",
       "                                           Stratigraphy  Date Added  \\\n",
       "6675  Hiltaba Suite;Sleaford Complex;Hutchison Group...  27/10/2016   \n",
       "7406                                               <NA>   3/08/2011   \n",
       "7672                                               <NA>   2/08/2011   \n",
       "7735                                               <NA>  22/11/2011   \n",
       "8035           Gawler Range Volcanics;Narlaby Formation  17/04/2014   \n",
       "\n",
       "     Download Document Size  \n",
       "6675                   <NA>  \n",
       "7406                 1155.0  \n",
       "7672                 7502.0  \n",
       "7735                 1512.0  \n",
       "8035                 1931.0  "
      ],
      "text/html": "<div>\n<style scoped>\n    .dataframe tbody tr th:only-of-type {\n        vertical-align: middle;\n    }\n\n    .dataframe tbody tr th {\n        vertical-align: top;\n    }\n\n    .dataframe thead th {\n        text-align: right;\n    }\n</style>\n<table border=\"1\" class=\"dataframe\">\n  <thead>\n    <tr style=\"text-align: right;\">\n      <th></th>\n      <th>Unnamed: 0</th>\n      <th>ID</th>\n      <th>envelopeOCR</th>\n      <th>Reference</th>\n      <th>Category</th>\n      <th>Title</th>\n      <th>Publication Date</th>\n      <th>Author</th>\n      <th>Prepared by</th>\n      <th>Source</th>\n      <th>Collation</th>\n      <th>Format</th>\n      <th>Client</th>\n      <th>Broad Subject</th>\n      <th>Subject Terms</th>\n      <th>Abstract</th>\n      <th>Notes</th>\n      <th>Tenement</th>\n      <th>Licensee</th>\n      <th>Mine Name</th>\n      <th>Map Sheet</th>\n      <th>Locality</th>\n      <th>Geol. Province</th>\n      <th>Drillhole</th>\n      <th>Assays</th>\n      <th>Stratigraphy</th>\n      <th>Date Added</th>\n      <th>Download Document Size</th>\n    </tr>\n  </thead>\n  <tbody>\n    <tr>\n      <th>6675</th>\n      <td>6675</td>\n      <td>ENV10624</td>\n      <td>Oren File EnvelopeNo. 10,624THE EYRE PENINSULA...</td>\n      <td>ENV10624</td>\n      <td>Company mineral exploration licence reports</td>\n      <td>Data release - as updated [made at SA Director...</td>\n      <td>&lt;NA&gt;</td>\n      <td>Drown, C.G.;McAvaney, D.J.;Caon, J.;Barnes, J....</td>\n      <td>Geosolutions Pty Ltd</td>\n      <td>South Australia. Department of Primary Industr...</td>\n      <td>Total pages: 283, 10 appx, figures, 8 ref, tab...</td>\n      <td>Digital</td>\n      <td>Quasar Resources Pty Ltd</td>\n      <td>Mineral exploration - SA;Drilling;Sedimentary ...</td>\n      <td>Gold exploration;Base metal exploration;Uraniu...</td>\n      <td>During the sixth year of the project, licensee...</td>\n      <td>This release to the public of the subject mine...</td>\n      <td>EL03296;EL03501;EL03546;EL03564;EL03700;EL0370...</td>\n      <td>Peninsula Resources Limited;Quasar Resources P...</td>\n      <td>&lt;NA&gt;</td>\n      <td>STREAKY BAY;5832I;5832IV;5833;YARDEA;5932;5933...</td>\n      <td>West-central Eyre Peninsula;Kyancutta;Minippa;...</td>\n      <td>Gawler Craton;Eucla Basin</td>\n      <td>CBA001 - CBA023;(306226 - 306334);CBM0001 - CB...</td>\n      <td>eU3O8;Au;Al;Ca;Fe;K;Mg;Mn;Zn;Ag;As;Bi;Cu;Pb;Sc...</td>\n      <td>Hiltaba Suite;Sleaford Complex;Hutchison Group...</td>\n      <td>27/10/2016</td>\n      <td>&lt;NA&gt;</td>\n    </tr>\n    <tr>\n      <th>7406</th>\n      <td>7406</td>\n      <td>ENV11825</td>\n      <td>Ozen File EnvelopeNo. 11,825EL 3546, EL 3833 A...</td>\n      <td>ENV11825</td>\n      <td>Company mineral exploration licence reports</td>\n      <td>Mount Ive, Corrobinnie and Lake Acraman (part ...</td>\n      <td>Feb-11</td>\n      <td>Badenhorst, T.</td>\n      <td>&lt;NA&gt;</td>\n      <td>South Australia. Department of Primary Industr...</td>\n      <td>Total pages: 13, 1 appx, 6 fig, 1 table, 1 reps</td>\n      <td>Digital</td>\n      <td>&lt;NA&gt;</td>\n      <td>Mineral exploration - SA;Geochemistry</td>\n      <td>Gold exploration;Base metal exploration;Epithe...</td>\n      <td>The exploration strategy for the Joint Venture...</td>\n      <td>A 493 sq km combined area was relinquished in ...</td>\n      <td>EL03546;EL03833;EL04186</td>\n      <td>Eyre Energy Pty Ltd;Adelaide Resource Ltd;Quas...</td>\n      <td>&lt;NA&gt;</td>\n      <td>GAIRDNER;6034II;YARDEA;6033II;6033III;6133III;...</td>\n      <td>Northern Eyre Peninsula;Southern Gawler Ranges...</td>\n      <td>Gawler Craton;Coulta Domain;Eucla Basin</td>\n      <td>&lt;NA&gt;</td>\n      <td>Au;Ag;As;Ca;Cu;Fe;Mg;Mn;Mo;Ni;Pb;Zn</td>\n      <td>&lt;NA&gt;</td>\n      <td>3/08/2011</td>\n      <td>1155.0</td>\n    </tr>\n    <tr>\n      <th>7672</th>\n      <td>7672</td>\n      <td>ENV12134</td>\n      <td>Oren File EnvelopeNo. 12,134EL 3546 AND EL 383...</td>\n      <td>ENV12134</td>\n      <td>Company mineral exploration licence reports</td>\n      <td>Mount Ive and Corrobinnie (part of the Eyre Pe...</td>\n      <td>28-Feb-11</td>\n      <td>Hewett, A.H.;Caon, J.</td>\n      <td>&lt;NA&gt;</td>\n      <td>South Australia. Department of Primary Industr...</td>\n      <td>Total pages: 27, 6 plans, appendices, 7 fig, t...</td>\n      <td>Digital</td>\n      <td>&lt;NA&gt;</td>\n      <td>Mineral exploration - SA;Geophysics;Drilling;S...</td>\n      <td>Uranium exploration;Sedimentary ores;Palaeocha...</td>\n      <td>Exploration of the Tertiary Thurlga Palaeochan...</td>\n      <td>&lt;NA&gt;</td>\n      <td>EL03546;EL03833</td>\n      <td>Eyre Energy Pty Ltd;Adelaide Resource Ltd;Quas...</td>\n      <td>&lt;NA&gt;</td>\n      <td>YARDEA;6033II;6033III;6133III;KIMBA;6131IV</td>\n      <td>Northern Eyre Peninsula;Southern Gawler Ranges...</td>\n      <td>Gawler Craton;Coulta Domain;Eucla Basin</td>\n      <td>MVA045;MVA046;MVA060 - MVA095</td>\n      <td>Au;Al;Ca;Fe;K;Mg;Mn;V;Zn;Ag;As;Bi;Cu;Pb;Sc;Se;...</td>\n      <td>&lt;NA&gt;</td>\n      <td>2/08/2011</td>\n      <td>7502.0</td>\n    </tr>\n    <tr>\n      <th>7735</th>\n      <td>7735</td>\n      <td>ENV12202</td>\n      <td>Open File EnvelopeNo. 12.202EL 3546, EL 3705, ...</td>\n      <td>ENV12202</td>\n      <td>Company mineral exploration licence reports</td>\n      <td>Mount Ive, Waddikee Rocks, Corrobinnie, Lake A...</td>\n      <td>Sep-11</td>\n      <td>Badenhorst, T.</td>\n      <td>Adelaide Resources Ltd</td>\n      <td>South Australia. Department of Primary Industr...</td>\n      <td>Total pages: 31, 1 appx, 16 fig, tables, 1 reps</td>\n      <td>Digital</td>\n      <td>&lt;NA&gt;</td>\n      <td>Mineral exploration - SA;Geochemistry</td>\n      <td>Gold exploration;Base metal exploration;Epithe...</td>\n      <td>A group of 13 exploration licences located on ...</td>\n      <td>See also the first and second partial relinqui...</td>\n      <td>EL03546;EL03705;EL03833;EL04186;EL04690</td>\n      <td>Eyre Energy Pty Ltd;Olliver Geological Service...</td>\n      <td>&lt;NA&gt;</td>\n      <td>GAIRDNER;STREAKY BAY;YARDEA;KIMBA</td>\n      <td>Northern Eyre Peninsula;Kimba;Minnipa;Kyancutt...</td>\n      <td>Gawler Craton</td>\n      <td>&lt;NA&gt;</td>\n      <td>Ag;As;Au;Ca;Cr;Cu;Fe;Mg;Mn;Ni;Pb;Zn</td>\n      <td>&lt;NA&gt;</td>\n      <td>22/11/2011</td>\n      <td>1512.0</td>\n    </tr>\n    <tr>\n      <th>8035</th>\n      <td>8035</td>\n      <td>ENV12534</td>\n      <td>Open File EnvelopeNo. 12,534EL 3546 / 479?MOUN...</td>\n      <td>ENV12534</td>\n      <td>Company mineral exploration licence reports</td>\n      <td>Mount Ive (part of the Eyre Peninsula Uranium ...</td>\n      <td>Feb-14</td>\n      <td>Manly, M.</td>\n      <td>Daishsat Geodetic Surveyors;GeoSolutions Pty Ltd</td>\n      <td>Government of South Australia. Department for ...</td>\n      <td>Total pages: 20, 7 appx, 4 fig, 8 tables, 1 reps</td>\n      <td>Digital</td>\n      <td>Heathgate Resources Ltd</td>\n      <td>Mineral exploration - SA;Geophysics;Drilling;G...</td>\n      <td>Gold exploration;Base metal exploration;Epithe...</td>\n      <td>The stated exploration strategy for the Joint ...</td>\n      <td>During the period 21/11/2006 until 19/2/2013, ...</td>\n      <td>EL03546;EL04792</td>\n      <td>Peninsula Resources Ltd;Adelaide Exploration L...</td>\n      <td>&lt;NA&gt;</td>\n      <td>YARDEA;6033II;6033III;6132IV</td>\n      <td>Northern Eyre Peninsula;Southern Gawler Ranges...</td>\n      <td>Gawler Craton;Coulta Domain;Eucla Basin</td>\n      <td>MVA001 - MVA059;(284625 - 284681)</td>\n      <td>U;Th;Cu;Pb;Ag;As;Bi;Zn;Mn;Sc;Se;Al;K;Ca;Fe;Mg;...</td>\n      <td>Gawler Range Volcanics;Narlaby Formation</td>\n      <td>17/04/2014</td>\n      <td>1931.0</td>\n    </tr>\n  </tbody>\n</table>\n</div>"
     },
     "metadata": {},
     "execution_count": 15
    }
   ],
   "source": [
    "envelopes_df[envelopes_df['Tenement'].str.contains('EL03546', na=False)]"
   ]
  },
  {
   "cell_type": "code",
   "execution_count": 16,
   "metadata": {},
   "outputs": [
    {
     "output_type": "stream",
     "name": "stdout",
     "text": [
      "<class 'pandas.core.frame.DataFrame'>\nInt64Index: 8553 entries, 0 to 8553\nData columns (total 28 columns):\n #   Column                  Non-Null Count  Dtype \n---  ------                  --------------  ----- \n 0   Unnamed: 0              8553 non-null   string\n 1   ID                      8553 non-null   string\n 2   envelopeOCR             8553 non-null   string\n 3   Reference               8553 non-null   string\n 4   Category                8553 non-null   string\n 5   Title                   8553 non-null   string\n 6   Publication Date        7698 non-null   string\n 7   Author                  6819 non-null   string\n 8   Prepared by             4518 non-null   string\n 9   Source                  8553 non-null   string\n 10  Collation               7374 non-null   string\n 11  Format                  8495 non-null   string\n 12  Client                  2386 non-null   string\n 13  Broad Subject           7527 non-null   string\n 14  Subject Terms           7647 non-null   string\n 15  Abstract                5894 non-null   string\n 16  Notes                   3609 non-null   string\n 17  Tenement                6978 non-null   string\n 18  Licensee                7497 non-null   string\n 19  Mine Name               3143 non-null   string\n 20  Map Sheet               8553 non-null   string\n 21  Locality                6769 non-null   string\n 22  Geol. Province          6854 non-null   string\n 23  Drillhole               3380 non-null   string\n 24  Assays                  2902 non-null   string\n 25  Stratigraphy            3839 non-null   string\n 26  Date Added              8553 non-null   string\n 27  Download Document Size  8053 non-null   string\ndtypes: string(28)\nmemory usage: 1.9 MB\n"
     ]
    }
   ],
   "source": [
    "envelopes_dropna = envelopes_df.dropna(subset=['envelopeOCR'])\n",
    "envelopes_dropna.info()"
   ]
  },
  {
   "cell_type": "code",
   "execution_count": 36,
   "metadata": {},
   "outputs": [],
   "source": [
    "envelopes_ddf = dd.from_pandas(envelopes_dropna, chunksize=1)"
   ]
  },
  {
   "cell_type": "code",
   "execution_count": 37,
   "metadata": {},
   "outputs": [
    {
     "output_type": "stream",
     "name": "stdout",
     "text": [
      "<class 'dask.dataframe.core.DataFrame'>\nColumns: 28 entries, Unnamed: 0 to Download Document Size\ndtypes: string(28)"
     ]
    }
   ],
   "source": [
    "envelopes_ddf.info()"
   ]
  },
  {
   "cell_type": "code",
   "execution_count": 38,
   "metadata": {},
   "outputs": [],
   "source": [
    "envelopes_ddf['normalised_ENV'] = envelopes_ddf['envelopeOCR'].apply(preprocess_doc, check_spelling=False, meta=envelopes_ddf.envelopeOCR).compute(scheduler='processes')"
   ]
  },
  {
   "cell_type": "code",
   "execution_count": 39,
   "metadata": {},
   "outputs": [],
   "source": [
    "envelopes_df_processed = envelopes_ddf.compute()"
   ]
  },
  {
   "cell_type": "code",
   "execution_count": 40,
   "metadata": {},
   "outputs": [],
   "source": [
    "envelopes_df_processed.to_csv(r'D:\\Python ML\\Envelope-key-words\\Data\\Interim\\merged_preprocessed_20201010.csv')"
   ]
  },
  {
   "cell_type": "code",
   "execution_count": 42,
   "metadata": {},
   "outputs": [
    {
     "output_type": "execute_result",
     "data": {
      "text/plain": [
       "  Unnamed: 0        ID                                        envelopeOCR  \\\n",
       "0          0  ENV00002  2CONTENTS ENVELOPE 2Geosurveys of Australta Lt...   \n",
       "1          1  ENV00003  2CONTENTS ENVELOPE 3Australian Pacific Oil Com...   \n",
       "2          2  ENV00003  2CONTENTS ENVELOPE 3Australian Pacific Oil Com...   \n",
       "3          3  ENV00004  DEPARTMENT OFMINES AND ENERGYOPEN FILE ENVELOP...   \n",
       "4          4  ENV00005  DEPARTMENT OFMINES AND ENERGYOPEN FILE ENVELOP...   \n",
       "\n",
       "  Reference                                       Category  \\\n",
       "0  ENV00002  Company petroleum exploration licence reports   \n",
       "1  ENV00003  Company petroleum exploration licence reports   \n",
       "2  ENV00003  Company petroleum exploration licence reports   \n",
       "3  ENV00004  Company petroleum exploration licence reports   \n",
       "4  ENV00005  Company petroleum exploration licence reports   \n",
       "\n",
       "                                               Title Publication Date  \\\n",
       "0  Interim report of the geological investigation...        30-Jun-56   \n",
       "1  Murray and Otway Basins and offshore extension...             1961   \n",
       "2  Report on the geology and oil and gas prospect...        26-Sep-60   \n",
       "3  Penola 1. Subsurface stratigraphy and micropal...             1961   \n",
       "4                           Penola 1. Palaeontology.             1961   \n",
       "\n",
       "                               Author                  Prepared by  \\\n",
       "0  Scott, D.C.;Wopfner, H.;Grasso, R.  Geosurveys of Australia Ltd   \n",
       "1                                <NA>               Burmal Oil Co.   \n",
       "2                  Schneeberger, W.F.              Ball Associates   \n",
       "3                      Ludbrook, N.H.                         <NA>   \n",
       "4             Evans, P.R.;White, M.E.                         <NA>   \n",
       "\n",
       "                                              Source  \\\n",
       "0  South Australia. Department of Mines. Open fil...   \n",
       "1  South Australia. Department of Mines. Open fil...   \n",
       "2  South Australia. Department of Mines. Open fil...   \n",
       "3  South Australia. Department of Mines. Open fil...   \n",
       "4  South Australia. Department of Mines. Open fil...   \n",
       "\n",
       "                                           Collation             Format  \\\n",
       "0    Total fiche: 2, Total pages: 4, 1 plans, 1 reps  Digital Hard Copy   \n",
       "1  Total fiche: 2, Total pages: 54, 4 plans, 8 fi...  Hard Copy Digital   \n",
       "2  Fiche range: 1-2, Page range: 3-52, 4 plans, 8...  Hard Copy Digital   \n",
       "3   Total fiche: 2, Total pages: 20, 2 plans, 3 reps  Hard Copy Digital   \n",
       "4   Total fiche: 1, Total pages: 10, 0 plans, 2 reps  Hard Copy Digital   \n",
       "\n",
       "  Client                                      Broad Subject  \\\n",
       "0   <NA>           Petroleum exploration;Structural geology   \n",
       "1   <NA>                              Petroleum exploration   \n",
       "2   <NA>                              Petroleum exploration   \n",
       "3   <NA>       Petroleum exploration;Palaeontology;Drilling   \n",
       "4   <NA>  Palaeontology;Petroleum exploration;Exploratio...   \n",
       "\n",
       "                                       Subject Terms  \\\n",
       "0             Photointerpretation;Geological mapping   \n",
       "1                                Petroleum potential   \n",
       "2  Marine petroleum exploration;Literature review...   \n",
       "3  Micropalaeontology;Biostratigraphy;Palynology;...   \n",
       "4  Biostratigraphy;Palynology;Drilling;Explorator...   \n",
       "\n",
       "                                            Abstract  \\\n",
       "0  Survey aimed to obtain broad structural pictur...   \n",
       "1                                               <NA>   \n",
       "2                                               <NA>   \n",
       "3                                               <NA>   \n",
       "4                                               <NA>   \n",
       "\n",
       "                                               Notes  Tenement  \\\n",
       "0                                               <NA>      <NA>   \n",
       "1  Contains a review of the hydrocarbon potential...  OEL00025   \n",
       "2                                               <NA>  OEL00025   \n",
       "3  Contains RB 668, fiche: 1-2, p: 9-20. Also inc...  OEL00022   \n",
       "4                                               <NA>  OEL00022   \n",
       "\n",
       "                                            Licensee Mine Name  \\\n",
       "0                                         Santos Ltd      <NA>   \n",
       "1                 Australian Pacific Oil Co. Pty Ltd      <NA>   \n",
       "2                 Australian Pacific Oil Co. Pty Ltd      <NA>   \n",
       "3  Oil Development NL;General Exploration Co. of ...      <NA>   \n",
       "4  Oil Development NL;General Exploration Co. of ...      <NA>   \n",
       "\n",
       "                                           Map Sheet  \\\n",
       "0  PORT AUGUSTA;6433I;ORROROO;6533;PARACHILNA;653...   \n",
       "1  PENOLA;NARACOORTE;PINNAROO;CHOWILLA;OLARY;6932...   \n",
       "2  PENOLA;NARACOORTE;PINNAROO;CHOWILLA;OLARY;6932...   \n",
       "3                                      PENOLA;7023II   \n",
       "4                                      PENOLA;7023II   \n",
       "\n",
       "                     Locality                      Geol. Province Drillhole  \\\n",
       "0             Flinders Ranges  Arrowie Basin;Adelaide Geosyncline      <NA>   \n",
       "1  Loxton;Caroline;Mt Gambier            Otway Basin;Murray Basin      <NA>   \n",
       "2             South Australia            Otway Basin;Murray Basin      <NA>   \n",
       "3  Penola;Hd Penola, secn 500                         Otway Basin  Penola 1   \n",
       "4                        <NA>                         Otway Basin  Penola 1   \n",
       "\n",
       "  Assays Stratigraphy  Date Added Download Document Size  \\\n",
       "0   <NA>         <NA>  20/08/1986                  186.0   \n",
       "1   <NA>         <NA>  20/08/1986                 1994.0   \n",
       "2   <NA>         <NA>  30/09/1998                 1994.0   \n",
       "3   <NA>         <NA>  29/09/1998                 5249.0   \n",
       "4   <NA>         <NA>  24/09/1998                 1805.0   \n",
       "\n",
       "                                      normalised_ENV  \n",
       "0  contents envelope geosurveys australta ltd san...  \n",
       "1  contents envelope australian pacific oil compa...  \n",
       "2  contents envelope australian pacific oil compa...  \n",
       "3  department ofmine energyopen file envelope ser...  \n",
       "4  department ofmine energyopen file envelope ser...  "
      ],
      "text/html": "<div>\n<style scoped>\n    .dataframe tbody tr th:only-of-type {\n        vertical-align: middle;\n    }\n\n    .dataframe tbody tr th {\n        vertical-align: top;\n    }\n\n    .dataframe thead th {\n        text-align: right;\n    }\n</style>\n<table border=\"1\" class=\"dataframe\">\n  <thead>\n    <tr style=\"text-align: right;\">\n      <th></th>\n      <th>Unnamed: 0</th>\n      <th>ID</th>\n      <th>envelopeOCR</th>\n      <th>Reference</th>\n      <th>Category</th>\n      <th>Title</th>\n      <th>Publication Date</th>\n      <th>Author</th>\n      <th>Prepared by</th>\n      <th>Source</th>\n      <th>Collation</th>\n      <th>Format</th>\n      <th>Client</th>\n      <th>Broad Subject</th>\n      <th>Subject Terms</th>\n      <th>Abstract</th>\n      <th>Notes</th>\n      <th>Tenement</th>\n      <th>Licensee</th>\n      <th>Mine Name</th>\n      <th>Map Sheet</th>\n      <th>Locality</th>\n      <th>Geol. Province</th>\n      <th>Drillhole</th>\n      <th>Assays</th>\n      <th>Stratigraphy</th>\n      <th>Date Added</th>\n      <th>Download Document Size</th>\n      <th>normalised_ENV</th>\n    </tr>\n  </thead>\n  <tbody>\n    <tr>\n      <th>0</th>\n      <td>0</td>\n      <td>ENV00002</td>\n      <td>2CONTENTS ENVELOPE 2Geosurveys of Australta Lt...</td>\n      <td>ENV00002</td>\n      <td>Company petroleum exploration licence reports</td>\n      <td>Interim report of the geological investigation...</td>\n      <td>30-Jun-56</td>\n      <td>Scott, D.C.;Wopfner, H.;Grasso, R.</td>\n      <td>Geosurveys of Australia Ltd</td>\n      <td>South Australia. Department of Mines. Open fil...</td>\n      <td>Total fiche: 2, Total pages: 4, 1 plans, 1 reps</td>\n      <td>Digital Hard Copy</td>\n      <td>&lt;NA&gt;</td>\n      <td>Petroleum exploration;Structural geology</td>\n      <td>Photointerpretation;Geological mapping</td>\n      <td>Survey aimed to obtain broad structural pictur...</td>\n      <td>&lt;NA&gt;</td>\n      <td>&lt;NA&gt;</td>\n      <td>Santos Ltd</td>\n      <td>&lt;NA&gt;</td>\n      <td>PORT AUGUSTA;6433I;ORROROO;6533;PARACHILNA;653...</td>\n      <td>Flinders Ranges</td>\n      <td>Arrowie Basin;Adelaide Geosyncline</td>\n      <td>&lt;NA&gt;</td>\n      <td>&lt;NA&gt;</td>\n      <td>&lt;NA&gt;</td>\n      <td>20/08/1986</td>\n      <td>186.0</td>\n      <td>contents envelope geosurveys australta ltd san...</td>\n    </tr>\n    <tr>\n      <th>1</th>\n      <td>1</td>\n      <td>ENV00003</td>\n      <td>2CONTENTS ENVELOPE 3Australian Pacific Oil Com...</td>\n      <td>ENV00003</td>\n      <td>Company petroleum exploration licence reports</td>\n      <td>Murray and Otway Basins and offshore extension...</td>\n      <td>1961</td>\n      <td>&lt;NA&gt;</td>\n      <td>Burmal Oil Co.</td>\n      <td>South Australia. Department of Mines. Open fil...</td>\n      <td>Total fiche: 2, Total pages: 54, 4 plans, 8 fi...</td>\n      <td>Hard Copy Digital</td>\n      <td>&lt;NA&gt;</td>\n      <td>Petroleum exploration</td>\n      <td>Petroleum potential</td>\n      <td>&lt;NA&gt;</td>\n      <td>Contains a review of the hydrocarbon potential...</td>\n      <td>OEL00025</td>\n      <td>Australian Pacific Oil Co. Pty Ltd</td>\n      <td>&lt;NA&gt;</td>\n      <td>PENOLA;NARACOORTE;PINNAROO;CHOWILLA;OLARY;6932...</td>\n      <td>Loxton;Caroline;Mt Gambier</td>\n      <td>Otway Basin;Murray Basin</td>\n      <td>&lt;NA&gt;</td>\n      <td>&lt;NA&gt;</td>\n      <td>&lt;NA&gt;</td>\n      <td>20/08/1986</td>\n      <td>1994.0</td>\n      <td>contents envelope australian pacific oil compa...</td>\n    </tr>\n    <tr>\n      <th>2</th>\n      <td>2</td>\n      <td>ENV00003</td>\n      <td>2CONTENTS ENVELOPE 3Australian Pacific Oil Com...</td>\n      <td>ENV00003</td>\n      <td>Company petroleum exploration licence reports</td>\n      <td>Report on the geology and oil and gas prospect...</td>\n      <td>26-Sep-60</td>\n      <td>Schneeberger, W.F.</td>\n      <td>Ball Associates</td>\n      <td>South Australia. Department of Mines. Open fil...</td>\n      <td>Fiche range: 1-2, Page range: 3-52, 4 plans, 8...</td>\n      <td>Hard Copy Digital</td>\n      <td>&lt;NA&gt;</td>\n      <td>Petroleum exploration</td>\n      <td>Marine petroleum exploration;Literature review...</td>\n      <td>&lt;NA&gt;</td>\n      <td>&lt;NA&gt;</td>\n      <td>OEL00025</td>\n      <td>Australian Pacific Oil Co. Pty Ltd</td>\n      <td>&lt;NA&gt;</td>\n      <td>PENOLA;NARACOORTE;PINNAROO;CHOWILLA;OLARY;6932...</td>\n      <td>South Australia</td>\n      <td>Otway Basin;Murray Basin</td>\n      <td>&lt;NA&gt;</td>\n      <td>&lt;NA&gt;</td>\n      <td>&lt;NA&gt;</td>\n      <td>30/09/1998</td>\n      <td>1994.0</td>\n      <td>contents envelope australian pacific oil compa...</td>\n    </tr>\n    <tr>\n      <th>3</th>\n      <td>3</td>\n      <td>ENV00004</td>\n      <td>DEPARTMENT OFMINES AND ENERGYOPEN FILE ENVELOP...</td>\n      <td>ENV00004</td>\n      <td>Company petroleum exploration licence reports</td>\n      <td>Penola 1. Subsurface stratigraphy and micropal...</td>\n      <td>1961</td>\n      <td>Ludbrook, N.H.</td>\n      <td>&lt;NA&gt;</td>\n      <td>South Australia. Department of Mines. Open fil...</td>\n      <td>Total fiche: 2, Total pages: 20, 2 plans, 3 reps</td>\n      <td>Hard Copy Digital</td>\n      <td>&lt;NA&gt;</td>\n      <td>Petroleum exploration;Palaeontology;Drilling</td>\n      <td>Micropalaeontology;Biostratigraphy;Palynology;...</td>\n      <td>&lt;NA&gt;</td>\n      <td>Contains RB 668, fiche: 1-2, p: 9-20. Also inc...</td>\n      <td>OEL00022</td>\n      <td>Oil Development NL;General Exploration Co. of ...</td>\n      <td>&lt;NA&gt;</td>\n      <td>PENOLA;7023II</td>\n      <td>Penola;Hd Penola, secn 500</td>\n      <td>Otway Basin</td>\n      <td>Penola 1</td>\n      <td>&lt;NA&gt;</td>\n      <td>&lt;NA&gt;</td>\n      <td>29/09/1998</td>\n      <td>5249.0</td>\n      <td>department ofmine energyopen file envelope ser...</td>\n    </tr>\n    <tr>\n      <th>4</th>\n      <td>4</td>\n      <td>ENV00005</td>\n      <td>DEPARTMENT OFMINES AND ENERGYOPEN FILE ENVELOP...</td>\n      <td>ENV00005</td>\n      <td>Company petroleum exploration licence reports</td>\n      <td>Penola 1. Palaeontology.</td>\n      <td>1961</td>\n      <td>Evans, P.R.;White, M.E.</td>\n      <td>&lt;NA&gt;</td>\n      <td>South Australia. Department of Mines. Open fil...</td>\n      <td>Total fiche: 1, Total pages: 10, 0 plans, 2 reps</td>\n      <td>Hard Copy Digital</td>\n      <td>&lt;NA&gt;</td>\n      <td>Palaeontology;Petroleum exploration;Exploratio...</td>\n      <td>Biostratigraphy;Palynology;Drilling;Explorator...</td>\n      <td>&lt;NA&gt;</td>\n      <td>&lt;NA&gt;</td>\n      <td>OEL00022</td>\n      <td>Oil Development NL;General Exploration Co. of ...</td>\n      <td>&lt;NA&gt;</td>\n      <td>PENOLA;7023II</td>\n      <td>&lt;NA&gt;</td>\n      <td>Otway Basin</td>\n      <td>Penola 1</td>\n      <td>&lt;NA&gt;</td>\n      <td>&lt;NA&gt;</td>\n      <td>24/09/1998</td>\n      <td>1805.0</td>\n      <td>department ofmine energyopen file envelope ser...</td>\n    </tr>\n  </tbody>\n</table>\n</div>"
     },
     "metadata": {},
     "execution_count": 42
    }
   ],
   "source": [
    "envelopes_df_processed.head()"
   ]
  },
  {
   "cell_type": "code",
   "execution_count": 44,
   "metadata": {},
   "outputs": [
    {
     "output_type": "execute_result",
     "data": {
      "text/plain": [
       "'contents envelope geosurveys australta ltd santos ltd report interim report geological investigation carriedout central flinder ranges geological map western margin centra flinderstenement tenement holderth june plan rangesnot related pgs otosurkeys ofe aust limit saatoscentral finderspengesfgeological map western margino centaal flinder rangesfor office use onlygeosurvey australia limitedgeological geophysical consultantsmanaging director sprigg sc aus interim report geological inestigation carry central flindersranges field observationsd scott dr wopfner photogeologyr grasso introduction area cover survey square mile thewestern margin central flinder range portion wilkatana willochra hawker yadlamalka cotahena military sheet include area object survey obtain broad structural picture partof flinder range adjacent pirie torren basin ja study structuralenviroment cambrian sediment carry may projectedwestward basin possibly correlate geophysical datathe geology interpret aerial photograph confirm andadde field nvestigation difficulty experience owing lackof vertical photo doverage area investigation temporarilypostpone suitable photograph available proterozoic old expose rock proterozoic age lowestmember shale quartzite magnesite torrensian age sedimentsoccur extreme western flank flinder range central southernoverlye torrensian rock moderate thickness sturtian tillitethe marinoan series occur widely spread throughout whole area isconformably sturtion sediment series compose chocolateand grey siltstone slate quartzite dolomite vary thickness andcomposition ripple mark mudcrack crossbedde slump dominantfeature indicative shallow water deposition mobably account thecompositional thickness variations palaeozoic main palaeozoic outcrop encounter area thickpound sandstone limestone cambrian age low section poundi red ferruginous sandstone lie conformably upon marinoan series passingupward white compact quartzite sandstone consider arbitraryabove pound transitional shaley bed pass well knowcambrian limestone notice base show sign archaeocyathinalfossil whereas limestone immediately layer contain abundant fossilsmainly archaeocyathinal horizone considerable thickness several time thick archaeocyathinal band argillaceous cambrian limestone generally dark blue grey fine grained rather mass ive often show sign intra formational breviation volitic bands weathering produce outcrop dark limestone boulder tt length increek outcrop massive bed boulder listinguishable fromfolding roughly nne trend fold axis occasional pitch reversalsproducing dome basin structure prominant nne elongated dome marinoan national mutual buildings king william streetadelaidesouth australiag box lloboratories todville streetwoodville westtelephone nos registered office la depot laboratories telegramsgeosurveys adelaidesecretory rennie middleton already obtained portion area investigated slate limestone base cambrian succession numerous shaley interbands surround shale structure sediment north area proximity plain thisstructure offer good opportunity projection westward towards pirie torren basin mile south long axis dome pitch reverse commence form second dome south west mt eyre howeverthe domal structure obliterate fault run along westerncambrian limestone would expect plain fold would appear western limb anticline poundii sandstone continuing east series pitching syncline anti faulting direction fault broadly correspond direction ofthe fold axis appear strike fault prominant fault strikingeast north run central part area move theeastern block nothward displacement along fault assume beanother major fault bring sturtian tillite archaeoyathinallimestone trend west north occur south west portion thethere number fault less significance betemporarily ignore effect overall picture negligible investigation part flinder range show developmentof synclinal anticlinal structure pitoh reversal hasproduce dome basin could oil reservoir type reproduce inthe structure broaden west project plain couldbe important especially relationship exist observedstructure range geophysical picture already obtain thegeological sketch map accompany report large scale map willslope flinder ranges cline nne ssw direction pitch reversals quite large area conclusions cambrian sediment plains pirie torren basin prepare upon completion field investigation'"
      ]
     },
     "metadata": {},
     "execution_count": 44
    }
   ],
   "source": [
    "envelopes_df_processed.normalised_ENV.iloc[0]"
   ]
  },
  {
   "cell_type": "code",
   "execution_count": 12,
   "metadata": {},
   "outputs": [],
   "source": [
    "# create a smaller subset dataset\n",
    "#envelopes_sub = envelopes_df.iloc[5500:7500]\n",
    "#envelopes_sub.to_csv(r'D:\\Python ML\\Envelope-key-words\\Data\\Interim\\subset_preprocessed.csv')"
   ]
  },
  {
   "source": [
    "## create dataset that only contains envelopes that have an abstract, and normalise the abstract for NLP"
   ],
   "cell_type": "markdown",
   "metadata": {}
  },
  {
   "cell_type": "code",
   "execution_count": 17,
   "metadata": {},
   "outputs": [],
   "source": [
    "merged_processed = pd.read_csv(r'D:\\Python ML\\Envelope-key-words\\Data\\Interim\\merged_preprocessed_20201010.csv')"
   ]
  },
  {
   "cell_type": "code",
   "execution_count": 18,
   "metadata": {},
   "outputs": [
    {
     "output_type": "execute_result",
     "data": {
      "text/plain": [
       "   Unnamed: 0  Unnamed: 0.1        ID  \\\n",
       "0           0             0  ENV00002   \n",
       "1           1             1  ENV00003   \n",
       "\n",
       "                                         envelopeOCR Reference  \\\n",
       "0  2CONTENTS ENVELOPE 2Geosurveys of Australta Lt...  ENV00002   \n",
       "1  2CONTENTS ENVELOPE 3Australian Pacific Oil Com...  ENV00003   \n",
       "\n",
       "                                        Category  \\\n",
       "0  Company petroleum exploration licence reports   \n",
       "1  Company petroleum exploration licence reports   \n",
       "\n",
       "                                               Title Publication Date  \\\n",
       "0  Interim report of the geological investigation...        30-Jun-56   \n",
       "1  Murray and Otway Basins and offshore extension...             1961   \n",
       "\n",
       "                               Author                  Prepared by  \\\n",
       "0  Scott, D.C.;Wopfner, H.;Grasso, R.  Geosurveys of Australia Ltd   \n",
       "1                                 NaN               Burmal Oil Co.   \n",
       "\n",
       "                                              Source  \\\n",
       "0  South Australia. Department of Mines. Open fil...   \n",
       "1  South Australia. Department of Mines. Open fil...   \n",
       "\n",
       "                                           Collation             Format  \\\n",
       "0    Total fiche: 2, Total pages: 4, 1 plans, 1 reps  Digital Hard Copy   \n",
       "1  Total fiche: 2, Total pages: 54, 4 plans, 8 fi...  Hard Copy Digital   \n",
       "\n",
       "  Client                             Broad Subject  \\\n",
       "0    NaN  Petroleum exploration;Structural geology   \n",
       "1    NaN                     Petroleum exploration   \n",
       "\n",
       "                            Subject Terms  \\\n",
       "0  Photointerpretation;Geological mapping   \n",
       "1                     Petroleum potential   \n",
       "\n",
       "                                            Abstract  \\\n",
       "0  Survey aimed to obtain broad structural pictur...   \n",
       "1                                                NaN   \n",
       "\n",
       "                                               Notes  Tenement  \\\n",
       "0                                                NaN       NaN   \n",
       "1  Contains a review of the hydrocarbon potential...  OEL00025   \n",
       "\n",
       "                             Licensee Mine Name  \\\n",
       "0                          Santos Ltd       NaN   \n",
       "1  Australian Pacific Oil Co. Pty Ltd       NaN   \n",
       "\n",
       "                                           Map Sheet  \\\n",
       "0  PORT AUGUSTA;6433I;ORROROO;6533;PARACHILNA;653...   \n",
       "1  PENOLA;NARACOORTE;PINNAROO;CHOWILLA;OLARY;6932...   \n",
       "\n",
       "                     Locality                      Geol. Province Drillhole  \\\n",
       "0             Flinders Ranges  Arrowie Basin;Adelaide Geosyncline       NaN   \n",
       "1  Loxton;Caroline;Mt Gambier            Otway Basin;Murray Basin       NaN   \n",
       "\n",
       "  Assays Stratigraphy  Date Added  Download Document Size  \\\n",
       "0    NaN          NaN  20/08/1986                   186.0   \n",
       "1    NaN          NaN  20/08/1986                  1994.0   \n",
       "\n",
       "                                      normalised_ENV  \n",
       "0  contents envelope geosurveys australta ltd san...  \n",
       "1  contents envelope australian pacific oil compa...  "
      ],
      "text/html": "<div>\n<style scoped>\n    .dataframe tbody tr th:only-of-type {\n        vertical-align: middle;\n    }\n\n    .dataframe tbody tr th {\n        vertical-align: top;\n    }\n\n    .dataframe thead th {\n        text-align: right;\n    }\n</style>\n<table border=\"1\" class=\"dataframe\">\n  <thead>\n    <tr style=\"text-align: right;\">\n      <th></th>\n      <th>Unnamed: 0</th>\n      <th>Unnamed: 0.1</th>\n      <th>ID</th>\n      <th>envelopeOCR</th>\n      <th>Reference</th>\n      <th>Category</th>\n      <th>Title</th>\n      <th>Publication Date</th>\n      <th>Author</th>\n      <th>Prepared by</th>\n      <th>Source</th>\n      <th>Collation</th>\n      <th>Format</th>\n      <th>Client</th>\n      <th>Broad Subject</th>\n      <th>Subject Terms</th>\n      <th>Abstract</th>\n      <th>Notes</th>\n      <th>Tenement</th>\n      <th>Licensee</th>\n      <th>Mine Name</th>\n      <th>Map Sheet</th>\n      <th>Locality</th>\n      <th>Geol. Province</th>\n      <th>Drillhole</th>\n      <th>Assays</th>\n      <th>Stratigraphy</th>\n      <th>Date Added</th>\n      <th>Download Document Size</th>\n      <th>normalised_ENV</th>\n    </tr>\n  </thead>\n  <tbody>\n    <tr>\n      <th>0</th>\n      <td>0</td>\n      <td>0</td>\n      <td>ENV00002</td>\n      <td>2CONTENTS ENVELOPE 2Geosurveys of Australta Lt...</td>\n      <td>ENV00002</td>\n      <td>Company petroleum exploration licence reports</td>\n      <td>Interim report of the geological investigation...</td>\n      <td>30-Jun-56</td>\n      <td>Scott, D.C.;Wopfner, H.;Grasso, R.</td>\n      <td>Geosurveys of Australia Ltd</td>\n      <td>South Australia. Department of Mines. Open fil...</td>\n      <td>Total fiche: 2, Total pages: 4, 1 plans, 1 reps</td>\n      <td>Digital Hard Copy</td>\n      <td>NaN</td>\n      <td>Petroleum exploration;Structural geology</td>\n      <td>Photointerpretation;Geological mapping</td>\n      <td>Survey aimed to obtain broad structural pictur...</td>\n      <td>NaN</td>\n      <td>NaN</td>\n      <td>Santos Ltd</td>\n      <td>NaN</td>\n      <td>PORT AUGUSTA;6433I;ORROROO;6533;PARACHILNA;653...</td>\n      <td>Flinders Ranges</td>\n      <td>Arrowie Basin;Adelaide Geosyncline</td>\n      <td>NaN</td>\n      <td>NaN</td>\n      <td>NaN</td>\n      <td>20/08/1986</td>\n      <td>186.0</td>\n      <td>contents envelope geosurveys australta ltd san...</td>\n    </tr>\n    <tr>\n      <th>1</th>\n      <td>1</td>\n      <td>1</td>\n      <td>ENV00003</td>\n      <td>2CONTENTS ENVELOPE 3Australian Pacific Oil Com...</td>\n      <td>ENV00003</td>\n      <td>Company petroleum exploration licence reports</td>\n      <td>Murray and Otway Basins and offshore extension...</td>\n      <td>1961</td>\n      <td>NaN</td>\n      <td>Burmal Oil Co.</td>\n      <td>South Australia. Department of Mines. Open fil...</td>\n      <td>Total fiche: 2, Total pages: 54, 4 plans, 8 fi...</td>\n      <td>Hard Copy Digital</td>\n      <td>NaN</td>\n      <td>Petroleum exploration</td>\n      <td>Petroleum potential</td>\n      <td>NaN</td>\n      <td>Contains a review of the hydrocarbon potential...</td>\n      <td>OEL00025</td>\n      <td>Australian Pacific Oil Co. Pty Ltd</td>\n      <td>NaN</td>\n      <td>PENOLA;NARACOORTE;PINNAROO;CHOWILLA;OLARY;6932...</td>\n      <td>Loxton;Caroline;Mt Gambier</td>\n      <td>Otway Basin;Murray Basin</td>\n      <td>NaN</td>\n      <td>NaN</td>\n      <td>NaN</td>\n      <td>20/08/1986</td>\n      <td>1994.0</td>\n      <td>contents envelope australian pacific oil compa...</td>\n    </tr>\n  </tbody>\n</table>\n</div>"
     },
     "metadata": {},
     "execution_count": 18
    }
   ],
   "source": [
    "merged_processed.head(2)"
   ]
  },
  {
   "cell_type": "code",
   "execution_count": 19,
   "metadata": {},
   "outputs": [
    {
     "output_type": "stream",
     "name": "stdout",
     "text": [
      "<class 'pandas.core.frame.DataFrame'>\nInt64Index: 5894 entries, 0 to 8552\nData columns (total 30 columns):\n #   Column                  Non-Null Count  Dtype  \n---  ------                  --------------  -----  \n 0   Unnamed: 0              5894 non-null   int64  \n 1   Unnamed: 0.1            5894 non-null   int64  \n 2   ID                      5894 non-null   object \n 3   envelopeOCR             5894 non-null   object \n 4   Reference               5894 non-null   object \n 5   Category                5894 non-null   object \n 6   Title                   5894 non-null   object \n 7   Publication Date        5630 non-null   object \n 8   Author                  5364 non-null   object \n 9   Prepared by             3294 non-null   object \n 10  Source                  5894 non-null   object \n 11  Collation               5732 non-null   object \n 12  Format                  5886 non-null   object \n 13  Client                  2137 non-null   object \n 14  Broad Subject           5892 non-null   object \n 15  Subject Terms           5865 non-null   object \n 16  Abstract                5894 non-null   object \n 17  Notes                   2753 non-null   object \n 18  Tenement                5465 non-null   object \n 19  Licensee                5556 non-null   object \n 20  Mine Name               2548 non-null   object \n 21  Map Sheet               5894 non-null   object \n 22  Locality                5574 non-null   object \n 23  Geol. Province          5693 non-null   object \n 24  Drillhole               2587 non-null   object \n 25  Assays                  2796 non-null   object \n 26  Stratigraphy            3271 non-null   object \n 27  Date Added              5894 non-null   object \n 28  Download Document Size  5576 non-null   float64\n 29  normalised_ENV          5894 non-null   object \ndtypes: float64(1), int64(2), object(27)\nmemory usage: 1.4+ MB\n"
     ]
    }
   ],
   "source": [
    "merged_processed = merged_processed.dropna(subset=['Abstract'])\n",
    "merged_processed.info()"
   ]
  },
  {
   "cell_type": "code",
   "execution_count": 20,
   "metadata": {},
   "outputs": [
    {
     "output_type": "stream",
     "name": "stdout",
     "text": [
      "<class 'dask.dataframe.core.DataFrame'>\nColumns: 30 entries, Unnamed: 0 to normalised_ENV\ndtypes: object(27), float64(1), int64(2)"
     ]
    }
   ],
   "source": [
    "abstract_ddf = dd.from_pandas(merged_processed, chunksize=1)\n",
    "abstract_ddf.info()"
   ]
  },
  {
   "cell_type": "code",
   "execution_count": 21,
   "metadata": {},
   "outputs": [],
   "source": [
    "abstract_ddf['normalised_Abstract'] = abstract_ddf['Abstract'].apply(preprocess_doc, check_spelling=False, meta=abstract_ddf.Abstract).compute(scheduler='processes')\n",
    "abstract_df_processed = abstract_ddf.compute()"
   ]
  },
  {
   "cell_type": "code",
   "execution_count": 22,
   "metadata": {},
   "outputs": [],
   "source": [
    "abstract_df_processed.drop(['Unnamed: 0','Unnamed: 0.1'],axis=1).to_csv(r'D:\\Python ML\\Envelope-key-words\\Data\\Interim\\processed_env_abstracts_20201125.csv')"
   ]
  },
  {
   "cell_type": "code",
   "execution_count": 23,
   "metadata": {},
   "outputs": [
    {
     "output_type": "execute_result",
     "data": {
      "text/plain": [
       "   Unnamed: 0  Unnamed: 0.1        ID  \\\n",
       "0           0             0  ENV00002   \n",
       "7           7             7  ENV00007   \n",
       "\n",
       "                                         envelopeOCR Reference  \\\n",
       "0  2CONTENTS ENVELOPE 2Geosurveys of Australta Lt...  ENV00002   \n",
       "7  CONTENTS ENVELOPE 7TENEMENT O.E.L. 24 - St. Vi...  ENV00007   \n",
       "\n",
       "                                        Category  \\\n",
       "0  Company petroleum exploration licence reports   \n",
       "7  Company petroleum exploration licence reports   \n",
       "\n",
       "                                               Title Publication Date  \\\n",
       "0  Interim report of the geological investigation...        30-Jun-56   \n",
       "7  Preliminary review of oil and gas possibilitie...             1961   \n",
       "\n",
       "                               Author                  Prepared by  \\\n",
       "0  Scott, D.C.;Wopfner, H.;Grasso, R.  Geosurveys of Australia Ltd   \n",
       "7                        Sprigg, R.C.                          NaN   \n",
       "\n",
       "                                              Source  \\\n",
       "0  South Australia. Department of Mines. Open fil...   \n",
       "7  South Australia. Department of Mines. Open fil...   \n",
       "\n",
       "                                           Collation             Format  \\\n",
       "0    Total fiche: 2, Total pages: 4, 1 plans, 1 reps  Digital Hard Copy   \n",
       "7  Total fiche: 2, Total pages: 65, 0 plans, refe...  Hard Copy Digital   \n",
       "\n",
       "  Client                             Broad Subject  ...  \\\n",
       "0    NaN  Petroleum exploration;Structural geology  ...   \n",
       "7    NaN          Petroleum exploration;Geophysics  ...   \n",
       "\n",
       "                                            Abstract  \\\n",
       "0  Survey aimed to obtain broad structural pictur...   \n",
       "7  Includes geological logs of the following bore...   \n",
       "\n",
       "                                               Notes  Tenement  \\\n",
       "0                                                NaN       NaN   \n",
       "7  Earlier draft of report in Env 8. Differs by c...  OEL00024   \n",
       "\n",
       "                          Licensee Mine Name  \\\n",
       "0                       Santos Ltd       NaN   \n",
       "7  Geosurveys of Australia Pty Ltd       NaN   \n",
       "\n",
       "                                           Map Sheet            Locality  \\\n",
       "0  PORT AUGUSTA;6433I;ORROROO;6533;PARACHILNA;653...     Flinders Ranges   \n",
       "7  ADELAIDE;6528;6529;MAITLAND;6428;6429;BARKER;6...  Gulf Saint Vincent   \n",
       "\n",
       "                       Geol. Province  \\\n",
       "0  Arrowie Basin;Adelaide Geosyncline   \n",
       "7    Stansbury Basin;St Vincent Basin   \n",
       "\n",
       "                                           Drillhole Assays Stratigraphy  \\\n",
       "0                                                NaN    NaN          NaN   \n",
       "7  Croydon Bore;Pethicks Bore;Inkerman Balaklava ...    NaN          NaN   \n",
       "\n",
       "   Date Added Download Document Size  \\\n",
       "0  20/08/1986                  186.0   \n",
       "7  31/12/1983                 1973.0   \n",
       "\n",
       "                                      normalised_ENV  \\\n",
       "0  contents envelope geosurveys australta ltd san...   \n",
       "7  content envelope tenement st vincents gulf gra...   \n",
       "\n",
       "                                 normalised_Abstract  \n",
       "0  survey aim obtain broad structural picture sho...  \n",
       "7  include geological log follow bore croydon bor...  \n",
       "\n",
       "[2 rows x 31 columns]"
      ],
      "text/html": "<div>\n<style scoped>\n    .dataframe tbody tr th:only-of-type {\n        vertical-align: middle;\n    }\n\n    .dataframe tbody tr th {\n        vertical-align: top;\n    }\n\n    .dataframe thead th {\n        text-align: right;\n    }\n</style>\n<table border=\"1\" class=\"dataframe\">\n  <thead>\n    <tr style=\"text-align: right;\">\n      <th></th>\n      <th>Unnamed: 0</th>\n      <th>Unnamed: 0.1</th>\n      <th>ID</th>\n      <th>envelopeOCR</th>\n      <th>Reference</th>\n      <th>Category</th>\n      <th>Title</th>\n      <th>Publication Date</th>\n      <th>Author</th>\n      <th>Prepared by</th>\n      <th>Source</th>\n      <th>Collation</th>\n      <th>Format</th>\n      <th>Client</th>\n      <th>Broad Subject</th>\n      <th>...</th>\n      <th>Abstract</th>\n      <th>Notes</th>\n      <th>Tenement</th>\n      <th>Licensee</th>\n      <th>Mine Name</th>\n      <th>Map Sheet</th>\n      <th>Locality</th>\n      <th>Geol. Province</th>\n      <th>Drillhole</th>\n      <th>Assays</th>\n      <th>Stratigraphy</th>\n      <th>Date Added</th>\n      <th>Download Document Size</th>\n      <th>normalised_ENV</th>\n      <th>normalised_Abstract</th>\n    </tr>\n  </thead>\n  <tbody>\n    <tr>\n      <th>0</th>\n      <td>0</td>\n      <td>0</td>\n      <td>ENV00002</td>\n      <td>2CONTENTS ENVELOPE 2Geosurveys of Australta Lt...</td>\n      <td>ENV00002</td>\n      <td>Company petroleum exploration licence reports</td>\n      <td>Interim report of the geological investigation...</td>\n      <td>30-Jun-56</td>\n      <td>Scott, D.C.;Wopfner, H.;Grasso, R.</td>\n      <td>Geosurveys of Australia Ltd</td>\n      <td>South Australia. Department of Mines. Open fil...</td>\n      <td>Total fiche: 2, Total pages: 4, 1 plans, 1 reps</td>\n      <td>Digital Hard Copy</td>\n      <td>NaN</td>\n      <td>Petroleum exploration;Structural geology</td>\n      <td>...</td>\n      <td>Survey aimed to obtain broad structural pictur...</td>\n      <td>NaN</td>\n      <td>NaN</td>\n      <td>Santos Ltd</td>\n      <td>NaN</td>\n      <td>PORT AUGUSTA;6433I;ORROROO;6533;PARACHILNA;653...</td>\n      <td>Flinders Ranges</td>\n      <td>Arrowie Basin;Adelaide Geosyncline</td>\n      <td>NaN</td>\n      <td>NaN</td>\n      <td>NaN</td>\n      <td>20/08/1986</td>\n      <td>186.0</td>\n      <td>contents envelope geosurveys australta ltd san...</td>\n      <td>survey aim obtain broad structural picture sho...</td>\n    </tr>\n    <tr>\n      <th>7</th>\n      <td>7</td>\n      <td>7</td>\n      <td>ENV00007</td>\n      <td>CONTENTS ENVELOPE 7TENEMENT O.E.L. 24 - St. Vi...</td>\n      <td>ENV00007</td>\n      <td>Company petroleum exploration licence reports</td>\n      <td>Preliminary review of oil and gas possibilitie...</td>\n      <td>1961</td>\n      <td>Sprigg, R.C.</td>\n      <td>NaN</td>\n      <td>South Australia. Department of Mines. Open fil...</td>\n      <td>Total fiche: 2, Total pages: 65, 0 plans, refe...</td>\n      <td>Hard Copy Digital</td>\n      <td>NaN</td>\n      <td>Petroleum exploration;Geophysics</td>\n      <td>...</td>\n      <td>Includes geological logs of the following bore...</td>\n      <td>Earlier draft of report in Env 8. Differs by c...</td>\n      <td>OEL00024</td>\n      <td>Geosurveys of Australia Pty Ltd</td>\n      <td>NaN</td>\n      <td>ADELAIDE;6528;6529;MAITLAND;6428;6429;BARKER;6...</td>\n      <td>Gulf Saint Vincent</td>\n      <td>Stansbury Basin;St Vincent Basin</td>\n      <td>Croydon Bore;Pethicks Bore;Inkerman Balaklava ...</td>\n      <td>NaN</td>\n      <td>NaN</td>\n      <td>31/12/1983</td>\n      <td>1973.0</td>\n      <td>content envelope tenement st vincents gulf gra...</td>\n      <td>include geological log follow bore croydon bor...</td>\n    </tr>\n  </tbody>\n</table>\n<p>2 rows × 31 columns</p>\n</div>"
     },
     "metadata": {},
     "execution_count": 23
    }
   ],
   "source": [
    "abstract_df_processed.head(2)"
   ]
  },
  {
   "cell_type": "code",
   "execution_count": 37,
   "metadata": {},
   "outputs": [
    {
     "output_type": "execute_result",
     "data": {
      "text/plain": [
       "'The principle objective of this project is to determine the timing of the fracture-filling cements in the Warburton Basin utilizing fluid inclusions microthermometry for some representative samples. A secondary objective was to identify possible sources of fluids from which fracture-filling cement are generated. This report forms part of a collaborative project funded by Mine and Energy South Australia (MESA) represented by the National Centre for Petroleum Geology and Geophysics (NCPGG), the University of Adelaide.'"
      ]
     },
     "metadata": {},
     "execution_count": 37
    }
   ],
   "source": [
    "merged_processed['Abstract'].iloc[5893]"
   ]
  },
  {
   "cell_type": "code",
   "execution_count": 39,
   "metadata": {},
   "outputs": [
    {
     "output_type": "execute_result",
     "data": {
      "text/plain": [
       "'principle objective project determine timing fracture fill cement warburton basin utilize fluid inclusion microthermometry representative sample secondary objective identify possible source fluid fracture fill cement generate report form part collaborative project fund mine energy south australia mesa represent national centre petroleum geology geophysics ncpgg university adelaide'"
      ]
     },
     "metadata": {},
     "execution_count": 39
    }
   ],
   "source": [
    "abstract_df_processed['normalised_Abstract'].iloc[5893]"
   ]
  },
  {
   "cell_type": "code",
   "execution_count": null,
   "metadata": {},
   "outputs": [],
   "source": []
  }
 ]
}